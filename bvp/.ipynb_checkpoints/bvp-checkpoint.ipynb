{
 "cells": [
  {
   "cell_type": "markdown",
   "metadata": {},
   "source": [
    "Bevor Sie dieses Notebook abgeben, testen Sie, ob alles so funktioniert, wie Sie es erwarten. So sollten Sie z.B. den ** Kernel neu starten** (im Menu w&auml;hlen Sie Kernel$\\rightarrow$Restart) und dann ** alle Zellen ausf&uuml;hren **  (im Menu w&auml;hlen Sie Cell$\\rightarrow$Run All).\n",
    "\n",
    "F&uuml;llen Sie alle Stellen, die mit  `YOUR CODE HERE` or \"YOUR ANSWER HERE\" aus. Sie d&uuml;rfen zus&auml;tzlich eigene Zellen und Funktionen definieren, nicht jedoch die Signaturen der gegebenen Funktionsr&uuml;mpfe &auml;ndern.\n",
    "\n",
    "Bitte beachten Sie auch die \"Hinweise zu den Abgaben\"-Datei in Moodle."
   ]
  },
  {
   "cell_type": "code",
   "execution_count": 2,
   "metadata": {},
   "outputs": [],
   "source": [
    "NAME = \"Fabian Flach\""
   ]
  },
  {
   "cell_type": "markdown",
   "metadata": {},
   "source": [
    "---"
   ]
  },
  {
   "cell_type": "markdown",
   "metadata": {
    "deletable": false,
    "editable": false,
    "nbgrader": {
     "checksum": "0446a26c9ba7d186a7b2880233c4a730",
     "grade": false,
     "grade_id": "cell-bc95c1fb19e321ac",
     "locked": true,
     "schema_version": 1,
     "solution": false
    }
   },
   "source": [
    "Bitte löschen Sie keine Zellen in diesem Notebook und verschieben auch keine. Bitte fügen Sie Ihre Antworten nur in die Zellen ein, wo \"your answer here\" oder \"your Code here\" steht. In Notebooks, die nicht automatisch gegraded werden können, werde ich nicht wieder per Hand die automatischen Tests laufen lassen!"
   ]
  },
  {
   "cell_type": "code",
   "execution_count": 3,
   "metadata": {},
   "outputs": [],
   "source": [
    "import IPython\n",
    "assert IPython.version_info[0] >= 3, \"Your version of IPython is too old, please update it.\""
   ]
  },
  {
   "cell_type": "code",
   "execution_count": 4,
   "metadata": {},
   "outputs": [],
   "source": [
    "import bvpst as bvp"
   ]
  },
  {
   "cell_type": "code",
   "execution_count": 5,
   "metadata": {},
   "outputs": [],
   "source": [
    "import numpy as np"
   ]
  },
  {
   "cell_type": "code",
   "execution_count": 6,
   "metadata": {},
   "outputs": [],
   "source": [
    "import matplotlib.pyplot as plt\n",
    "from scipy.integrate import odeint\n",
    "plt.style.use('presentation')"
   ]
  },
  {
   "cell_type": "markdown",
   "metadata": {
    "deletable": false,
    "editable": false,
    "nbgrader": {
     "checksum": "29d92142e53eb21e65159fa6d86b384c",
     "grade": false,
     "grade_id": "cell-44bec2cf2cc45a4c",
     "locked": true,
     "schema_version": 1,
     "solution": false
    }
   },
   "source": [
    "# Beispiele"
   ]
  },
  {
   "cell_type": "markdown",
   "metadata": {},
   "source": [
    "##  Autobeispiel aus der Vorlesung:\n",
    "$$ \\begin{align*}\n",
    "\t\t      \ty' & = v                                                                      \\\\\n",
    "\t\t      \tv' & =  -g-\\frac{k}{m}(y-u)-\\frac{d}{m}(y'-u')                                 \\\\\n",
    "\t\t      \t   & =  -\\frac{k}{m}y-\\frac{d}{m}v+\\left(-g+\\frac{k}{m}u+\\frac{d}{m}u'\\right). \n",
    "                   \\end{align*} $$\n",
    "mit $k=4$, $d=2,$ $m=10$, $g=9.81$.\n",
    "\n",
    "Randbedingungen:\n",
    "\t\t      $$ y(0)=10, \\quad y(2)=1. $$"
   ]
  },
  {
   "cell_type": "markdown",
   "metadata": {
    "deletable": false,
    "editable": false,
    "nbgrader": {
     "checksum": "1dc48ad7a39c39ca0f64e108bc3a9391",
     "grade": false,
     "grade_id": "cell-c71e30dbb9dddae8",
     "locked": true,
     "schema_version": 1,
     "solution": false
    }
   },
   "source": [
    "## Beispiel 1\n",
    "$$ \\begin{align*}\n",
    "y_1'&= \\frac {4-2*y_2}{t^3}\\\\\n",
    "y_2' &= -e^{y_1}\n",
    "\\end{align*} $$\n",
    "\n",
    "mit den Randwerten $$y_1(1)=0, y_2(2)=0$$"
   ]
  },
  {
   "cell_type": "markdown",
   "metadata": {},
   "source": [
    "# Aufgaben"
   ]
  },
  {
   "cell_type": "markdown",
   "metadata": {
    "deletable": false,
    "editable": false,
    "nbgrader": {
     "checksum": "d19e02b079072cea1a3f5d3db733b8be",
     "grade": false,
     "grade_id": "cell-013eaa980cd2910a",
     "locked": true,
     "schema_version": 1,
     "solution": false
    }
   },
   "source": [
    "##   \n",
    "Zeigen Sie, dass die exakte Lösung von Beispiel 1 durch $$y_1=\\ln(t)$$ und $$y_2(t)=2-t^2/2$$ gegeben ist."
   ]
  },
  {
   "cell_type": "markdown",
   "metadata": {
    "deletable": false,
    "editable": false,
    "nbgrader": {
     "checksum": "ea4227cf56ad19839c9a62a25c6c39d5",
     "grade": false,
     "grade_id": "cell-5bd3a1c75835d656",
     "locked": true,
     "schema_version": 1,
     "solution": false
    }
   },
   "source": [
    "Beweis:"
   ]
  },
  {
   "cell_type": "markdown",
   "metadata": {
    "deletable": false,
    "nbgrader": {
     "checksum": "022b839129e27cbc20bb9876f3eff8b6",
     "grade": true,
     "grade_id": "cell-dc27b5a1ee5e8be7",
     "locked": false,
     "points": 3,
     "schema_version": 1,
     "solution": true
    }
   },
   "source": [
    "\\begin{align*}\\\\\n",
    "y_1(t):\\\\\n",
    "y_1(t)'&= \\frac {4-2*y_2}{t^3}\\\\\n",
    "y_1(t)'&= \\frac {4-2*(2-\\frac {t^2}{2})}{t^3}\\\\\n",
    "y_1(t)'&= \\frac {4-4+t^2}{t^3}\\\\\n",
    "y_1(t)'&= \\frac {1}{t}\\\\\n",
    "\\\\\n",
    "y_1(t) &= ln(t) + a\\\\\n",
    "\\\\\n",
    "y_1(1) &= 0\\\\\n",
    "ln(1) + a &= 0\\\\\n",
    "a &= 0\\\\\n",
    "y_1(t) &= ln(t)\\\\\n",
    "\\\\\n",
    "\\\\\n",
    "y_2(t):\\\\\n",
    "y_2(t)'&= -e^{y_1}\\\\\n",
    "y_2(t)'&= -e^{ln(t)}\\\\\n",
    "y_2(t)'&= -t\\\\\n",
    "\\\\\n",
    "y_2(t) &= -\\frac {1}{2}*t^2+a\\\\\n",
    "\\\\\n",
    "y_2(2) &= 0\\\\\n",
    "a-\\frac {1}{2}*2^2 &= 0\\\\\n",
    "a &= 2\\\\\n",
    "y_2(t) &= 2-\\frac {1}{2}*t^2\\\\\n",
    "\\end{align*}\n",
    "\n"
   ]
  },
  {
   "cell_type": "markdown",
   "metadata": {
    "deletable": false,
    "editable": false,
    "nbgrader": {
     "checksum": "8e20b328985a87a45cbd8d4936186675",
     "grade": false,
     "grade_id": "cell-cd053043a2dce653",
     "locked": true,
     "schema_version": 1,
     "solution": false
    }
   },
   "source": [
    "##  \n",
    "Als erstes Testbeispiel dient das bereits in der Vorlesung mit dem Sekantenverfahren gelöste Autobeispiel.\n",
    "Schreiben Sie eine Routine `bc_auto`, die die Residuen (=Fehler) in den Randwerten für das Autobeispiel aus der Vorlesung ausrechnet. Die Routine soll analog zu `bc` in scipy.integrate.solve_bvp funktionieren, s. Beschreibung dort.\n",
    "`bc`(y0, yend), Rückgabewert ist $n$-dim np.array, wobei $n$ die Dimension von $y$ ist. \n",
    "`bc` ist somit die Funktion, die in der Lösung des RWP 0 sein muss."
   ]
  },
  {
   "cell_type": "code",
   "execution_count": 7,
   "metadata": {
    "deletable": false,
    "nbgrader": {
     "checksum": "3dad38bcbb9b1a1a30d079bb95186bb2",
     "grade": false,
     "grade_id": "cell-ba2471466042a33b",
     "locked": false,
     "schema_version": 1,
     "solution": true
    }
   },
   "outputs": [],
   "source": [
    "def bc_auto(y0, yend):\n",
    "    ''' \n",
    "    :param y0: Wert am linken Intervallrand\n",
    "    :param yend: Wert am rechten Intervallrand\n",
    "    :return: Fehler in den Randwerten\n",
    "    '''\n",
    "    #res_y0 = np.absolute()\n",
    "    #res_yend = np.absolute()\n",
    "    return np.array([y0[0] - 10, yend[0] - 1])\n",
    "    \n",
    "    # YOUR CODE HERE\n",
    "    raise NotImplementedError()"
   ]
  },
  {
   "cell_type": "code",
   "execution_count": 8,
   "metadata": {
    "deletable": false,
    "editable": false,
    "nbgrader": {
     "checksum": "07232b3b82f978e900a8a48efc4d5e59",
     "grade": true,
     "grade_id": "cell-dace23ac8e2f6239",
     "locked": true,
     "points": 2,
     "schema_version": 1,
     "solution": false
    }
   },
   "outputs": [],
   "source": [
    "y0 = np.array([10., 2.])\n",
    "yend = np.array([1., 5.])\n",
    "assert np.allclose(bc_auto(y0, yend), np.array([0., 0.]))\n",
    "\n",
    "y0 = np.array([5.5,2.])\n",
    "yend = np.array([7.,5.])\n",
    "assert np.allclose(bc_auto(y0, yend), np.array([-4.5, 6.]))"
   ]
  },
  {
   "cell_type": "markdown",
   "metadata": {},
   "source": [
    "##  \n",
    "Als zweites Testbeispiel dient Beispiel 1 von oben.\n",
    "Schreiben Sie eine Routine `bc_bsp1`, die die Residuen (=Fehler) in den Randwerten für das Autobeispiel aus der Vorlesung ausrechnet (für das wir die Lösung des RWP mit dem sekantenverfahren bestimmt hatten). Die Routine soll analog zu `bc` in scipy.integrate.solve_bvp funktionieren."
   ]
  },
  {
   "cell_type": "code",
   "execution_count": 9,
   "metadata": {
    "deletable": false,
    "nbgrader": {
     "checksum": "d17fb81ead06977e98b5e880f277ab08",
     "grade": false,
     "grade_id": "cell-c5a54e9f110e291f",
     "locked": false,
     "schema_version": 1,
     "solution": true
    }
   },
   "outputs": [],
   "source": [
    "def bc_bsp1(y0, yend):\n",
    "    ''' \n",
    "    :param y0: Wert am linken Intervallrand\n",
    "    :param yend: Wert am rechten Intervallrand\n",
    "    :return: Fehler in den Randwerten\n",
    "    '''\n",
    "    return np.array([y0[0], yend[1]])"
   ]
  },
  {
   "cell_type": "code",
   "execution_count": 10,
   "metadata": {
    "deletable": false,
    "editable": false,
    "nbgrader": {
     "checksum": "37187d26055b55f55c720cfda52debce",
     "grade": true,
     "grade_id": "cell-59961461bf89e565",
     "locked": true,
     "points": 2,
     "schema_version": 1,
     "solution": false
    }
   },
   "outputs": [],
   "source": [
    "y0 = np.array([0., 2.])\n",
    "yend = np.array([1., 0])\n",
    "assert np.allclose(bc_bsp1(y0, yend), np.array([0., 0.]))\n"
   ]
  },
  {
   "cell_type": "markdown",
   "metadata": {
    "deletable": false,
    "editable": false,
    "nbgrader": {
     "checksum": "2aa6a9797063be058598c39f867fc9d6",
     "grade": false,
     "grade_id": "cell-09970224ee70440d",
     "locked": true,
     "schema_version": 1,
     "solution": false
    }
   },
   "source": [
    "Die Lösung der Dgl. in Ihrem Schießverfahren soll mit einer Python-Bibliotheksroutine erfolgen.\n",
    "Imlementieren Sie die rechten Seiten der beiden o.g. Differentialgleichungssysteme."
   ]
  },
  {
   "cell_type": "code",
   "execution_count": 11,
   "metadata": {
    "deletable": false,
    "nbgrader": {
     "checksum": "d84eb2e8a61a27173096bae9f83f6b4e",
     "grade": false,
     "grade_id": "cell-4944f93bf86d08b8",
     "locked": false,
     "schema_version": 1,
     "solution": true
    }
   },
   "outputs": [],
   "source": [
    "def ode_auto(y, t):\n",
    "    k = 4\n",
    "    d = 2\n",
    "    m = 10\n",
    "    g = 9.81\n",
    "    ynew_0 = y[1]\n",
    "    ynew_1 = -(k/m)*y[0]-(d/m)*y[1]+(-g+(k/m)*np.sin(t)+(d/m)*np.cos(t))\n",
    "    \n",
    "    \n",
    "    return np.array([ynew_0, ynew_1])\n",
    "    \n",
    "    raise NotImplementedError()"
   ]
  },
  {
   "cell_type": "code",
   "execution_count": 12,
   "metadata": {
    "deletable": false,
    "editable": false,
    "nbgrader": {
     "checksum": "9e32a0859d7065208de48bfeddef73c1",
     "grade": true,
     "grade_id": "cell-2f60886e6f4fb891",
     "locked": true,
     "points": 2,
     "schema_version": 1,
     "solution": false
    }
   },
   "outputs": [],
   "source": [
    "y0 = np.array([1., -2.])\n",
    "assert np.allclose(ode_auto(y0, 1.), bvp.ode_auto(y0, 1.))\n"
   ]
  },
  {
   "cell_type": "code",
   "execution_count": 13,
   "metadata": {
    "deletable": false,
    "nbgrader": {
     "checksum": "4efe45c19201928ac032d8f3afd2401a",
     "grade": false,
     "grade_id": "cell-2d731a3c27ccfc72",
     "locked": false,
     "schema_version": 1,
     "solution": true
    }
   },
   "outputs": [],
   "source": [
    "def ode_bsp1(y, t):\n",
    "    \n",
    "    ynew_0 = (4-2*y[1])/(t**3)\n",
    "    ynew_1 = -np.exp(y[0])\n",
    "    \n",
    "    \n",
    "    return np.array([ynew_0, ynew_1])\n",
    "    raise NotImplementedError()"
   ]
  },
  {
   "cell_type": "code",
   "execution_count": 14,
   "metadata": {
    "deletable": false,
    "editable": false,
    "nbgrader": {
     "checksum": "641393ed96549fee59ebc90ae271cdad",
     "grade": true,
     "grade_id": "cell-89bb22ebbd2a291d",
     "locked": true,
     "points": 1,
     "schema_version": 1,
     "solution": false
    }
   },
   "outputs": [],
   "source": [
    "y0 = np.array([1., -2.])\n",
    "assert np.allclose(ode_bsp1(y0, 1.), bvp.ode_bsp1(y0, 1.))\n",
    "\n",
    "y0 = np.random.rand(2)\n",
    "t = np.random.randint(1, 5)*1.\n",
    "assert np.allclose(ode_bsp1(y0, t), bvp.ode_bsp1(y0, t))"
   ]
  },
  {
   "cell_type": "markdown",
   "metadata": {
    "deletable": false,
    "editable": false,
    "nbgrader": {
     "checksum": "cbbc3017387e220aaccb29f1909c7fd9",
     "grade": false,
     "grade_id": "cell-6d825187f95e0e96",
     "locked": true,
     "schema_version": 1,
     "solution": false
    }
   },
   "source": [
    "##  \n",
    "\n",
    "Lösen Sie beiden obigen Probleme mit scipy.integrate.solve_bvp und plotten Sie die Lösung.\n",
    "Vorsicht: Die rechten Seiten haben im Vergleich zu odeint vertauschte Aufruflisten!\n",
    "Prüfen Sie für Bsp 1, ob die Lösung mit der oben von Ihnen verifizierten Lösung übereinstimmt."
   ]
  },
  {
   "cell_type": "code",
   "execution_count": 15,
   "metadata": {},
   "outputs": [],
   "source": [
    "from scipy.integrate import solve_bvp"
   ]
  },
  {
   "cell_type": "code",
   "execution_count": 16,
   "metadata": {
    "deletable": false,
    "nbgrader": {
     "checksum": "3574c551bd114cec1384dfbdc4977234",
     "grade": true,
     "grade_id": "cell-73e75281b4011c5b",
     "locked": false,
     "points": 3,
     "schema_version": 1,
     "solution": true
    }
   },
   "outputs": [],
   "source": [
    "def switch_auto (x,y):\n",
    "    return ode_auto(y,x)\n"
   ]
  },
  {
   "cell_type": "code",
   "execution_count": 17,
   "metadata": {},
   "outputs": [],
   "source": [
    "# Beispiel Auto\n",
    "x = np.linspace(0, 2, 100)\n",
    "y = np.zeros((2, x.size))\n",
    "y[0,0] = 10\n",
    "y[0,-1] = 1\n",
    "sol = solve_bvp(switch_auto, bc_auto, x, y)\n",
    "sol_x = sol[\"x\"]\n",
    "sol_y = sol[\"y\"][0]\n"
   ]
  },
  {
   "cell_type": "code",
   "execution_count": 18,
   "metadata": {},
   "outputs": [
    {
     "data": {
      "image/png": "[encoded data removed]",
      "text/plain": [
       "<matplotlib.figure.Figure at 0x21af13d2438>"
      ]
     },
     "metadata": {},
     "output_type": "display_data"
    }
   ],
   "source": [
    "plt.plot(sol_x, sol_y)\n",
    "plt.show()"
   ]
  },
  {
   "cell_type": "code",
   "execution_count": 19,
   "metadata": {},
   "outputs": [],
   "source": [
    "def switch_bsp1(x,y):\n",
    "    return ode_bsp1(y,x)\n",
    "    "
   ]
  },
  {
   "cell_type": "code",
   "execution_count": 20,
   "metadata": {
    "deletable": false,
    "nbgrader": {
     "checksum": "023902b5b746d8a6f052f6d2d23d88c6",
     "grade": true,
     "grade_id": "cell-8528d55b69d60079",
     "locked": false,
     "points": 3,
     "schema_version": 1,
     "solution": true
    }
   },
   "outputs": [],
   "source": [
    "# Beispiel 1\n",
    "x = np.linspace(1, 2, 100)\n",
    "y = np.zeros((2, x.size))\n",
    "\n",
    "sol = solve_bvp(switch_bsp1, bc_bsp1, x, y)\n",
    "sol_x = sol[\"x\"]\n",
    "sol_y = sol[\"y\"][0]"
   ]
  },
  {
   "cell_type": "code",
   "execution_count": 21,
   "metadata": {},
   "outputs": [
    {
     "data": {
      "image/png": "[encoded data removed]",
      "text/plain": [
       "<matplotlib.figure.Figure at 0x21af1806ba8>"
      ]
     },
     "metadata": {},
     "output_type": "display_data"
    }
   ],
   "source": [
    "plt.plot(sol_x, sol_y)\n",
    "plt.show()"
   ]
  },
  {
   "cell_type": "markdown",
   "metadata": {
    "deletable": false,
    "editable": false,
    "nbgrader": {
     "checksum": "0c35af5a0d9b316fa5b677747ffb7c3d",
     "grade": false,
     "grade_id": "cell-2ced341c83abd61c",
     "locked": true,
     "schema_version": 1,
     "solution": false
    }
   },
   "source": [
    "##  \n",
    "Schreiben Sie eine python-Funktion jac_bc, die die Ableitung der Randbedingungen nach den Anfangswerten des Anfangswertproblems numerisch berechnet.\n",
    "Zur Lösung der Differentialgleichung sollen Sie als Bibliotheksroutine odeint verwenden.\n",
    " \n",
    "Achten Sie darauf, dass die Toleranzen zueinander passen: Die Störung in y bei der numerischen Berechnung der Jacobi-Matrix einer Funktion ff sollte in der Größenordnung $\\sqrt{error_{ff}}$ liegen, wobei $error_{ff}$ der Fehler/Ungenauigkeit in der Berechnung der abzuleitenden Funktion ist, s. Numerik I oder z.B. Wikipedia: Numerical differentiation. Was bedeutet dies, wenn ff aus der numerischen Lösung einer Dgl. berechnet wird? \n",
    "\n",
    "Testen Sie Ihre Routine und begründen Sie, warum Sie gerade so testen."
   ]
  },
  {
   "cell_type": "code",
   "execution_count": 58,
   "metadata": {
    "deletable": false,
    "nbgrader": {
     "checksum": "1a349b423a0b37dedcee819f347c3d57",
     "grade": false,
     "grade_id": "cell-85ee1096a636b6ef",
     "locked": false,
     "schema_version": 1,
     "solution": true
    }
   },
   "outputs": [],
   "source": [
    "def jac_bc(ode, tinterval, y0, bc, rtol, atol):\n",
    "    '''\n",
    "    :param ode: rechte seite der Dgl.\n",
    "    :param tinterval: Integrationsintervall [tstart, tend]\n",
    "    :param y0: Startwert am linken Intervallrand\n",
    "    :param bc: Funktion, die die Residuen der randwerte berechnet\n",
    "    :param rtol, atol: relative und absolute Toleranz (insbes. für odeint), s. odeint\n",
    "    :return: Jacobi-Matrix: Ableitung der Randwerte nach den Anfangswerten: d bc/ d y0\n",
    "    '''\n",
    "    n = y0.size\n",
    "    jac = np.zeros(shape=(n, n))\n",
    "    \n",
    "    yend0 = odeint(ode, y0, tinterval, atol=atol, rtol=rtol)[-1]\n",
    "    res0 = bc(y0, yend0)\n",
    "    for i in range(n):\n",
    "        yd = np.copy(y0)\n",
    "        #yd = y0[:]\n",
    "        delta_yd = np.sqrt(np.absolute(yd[i])*rtol + atol)\n",
    "        yd[i] = y0[i] + delta_yd\n",
    "        yendd = odeint(ode, yd, tinterval, rtol=rtol, atol=atol)[-1]\n",
    "        resd = bc(yd, yendd)\n",
    "        jac[:, i] = (resd - res0)/delta_yd\n",
    "    \n",
    "    \n",
    "    \n",
    "    return jac\n",
    "    raise NotImplementedError()"
   ]
  },
  {
   "cell_type": "code",
   "execution_count": 23,
   "metadata": {
    "deletable": false,
    "editable": false,
    "nbgrader": {
     "checksum": "f809b5b8b7d441927e34eb3794fc25f7",
     "grade": true,
     "grade_id": "cell-23f4572a7d134f91",
     "locked": true,
     "points": 4,
     "schema_version": 1,
     "solution": false
    }
   },
   "outputs": [],
   "source": [
    "# Hidden Tests - Zelle nicht verändern"
   ]
  },
  {
   "cell_type": "code",
   "execution_count": 24,
   "metadata": {
    "deletable": false,
    "editable": false,
    "nbgrader": {
     "checksum": "0c074e3e97ff6eb0670d84c5f2c7e951",
     "grade": true,
     "grade_id": "cell-4744b11d6eb8abdf",
     "locked": true,
     "points": 4,
     "schema_version": 1,
     "solution": false
    }
   },
   "outputs": [],
   "source": [
    "# Hidden Tests - Zelle nicht verändern"
   ]
  },
  {
   "cell_type": "code",
   "execution_count": 25,
   "metadata": {
    "deletable": false,
    "editable": false,
    "nbgrader": {
     "checksum": "5167f910ef1c13f7a416db84ea32b559",
     "grade": true,
     "grade_id": "cell-a475d0dc63476f1c",
     "locked": true,
     "points": 2,
     "schema_version": 1,
     "solution": false
    }
   },
   "outputs": [],
   "source": [
    "# Hidden Tests - Zelle nicht verändern"
   ]
  },
  {
   "cell_type": "code",
   "execution_count": 26,
   "metadata": {
    "deletable": false,
    "editable": false,
    "nbgrader": {
     "checksum": "d4fd3d8fe6646352b0658d94a0acac49",
     "grade": true,
     "grade_id": "cell-1981247c7dc0a87b",
     "locked": true,
     "points": 2,
     "schema_version": 1,
     "solution": false
    }
   },
   "outputs": [],
   "source": [
    "# Hidden Tests - Zelle nicht verändern"
   ]
  },
  {
   "cell_type": "markdown",
   "metadata": {
    "deletable": false,
    "editable": false,
    "nbgrader": {
     "checksum": "44add176366e62fbb07f2e8a6419efa9",
     "grade": false,
     "grade_id": "cell-7ede8d5eb5e2425f",
     "locked": true,
     "schema_version": 1,
     "solution": false
    }
   },
   "source": [
    "Ihre Tests, ob die Routine die Ableitungen der Randbedingungen nach den Anfangswerte korrekt berechnet:"
   ]
  },
  {
   "cell_type": "markdown",
   "metadata": {
    "collapsed": true,
    "deletable": false,
    "editable": false,
    "nbgrader": {
     "checksum": "6b30ccd9d403d5a0f2922ed5de0765d1",
     "grade": false,
     "grade_id": "cell-ec7d133da6ea9f61",
     "locked": true,
     "schema_version": 1,
     "solution": false
    }
   },
   "source": [
    "Begründung der Tests"
   ]
  },
  {
   "cell_type": "code",
   "execution_count": 59,
   "metadata": {},
   "outputs": [
    {
     "name": "stdout",
     "output_type": "stream",
     "text": [
      "jac:  [[1.         0.        ]\n",
      " [0.38327335 1.24375476]]\n",
      "bvp_jac:  [[1.         0.        ]\n",
      " [0.38327335 1.24375476]]\n"
     ]
    }
   ],
   "source": [
    "tol = 1e-5\n",
    "rtol = tol\n",
    "atol = tol\n",
    "from scipy.integrate import odeint\n",
    "import numpy as np\n",
    "import numpy.linalg as la\n",
    "\n",
    "y0 = np.array([0., 5.])\n",
    "tinterval = np.array([0., 2.])\n",
    "print(\"jac: \", jac_bc(ode_auto, tinterval, y0, bc_auto, rtol, atol))\n",
    "print(\"bvp_jac: \", bvp.jac_bc(ode_auto, tinterval, y0, bc_auto, rtol, atol))"
   ]
  },
  {
   "cell_type": "code",
   "execution_count": 60,
   "metadata": {
    "deletable": false,
    "nbgrader": {
     "checksum": "4552c2259e9125e1ee48b0435aef417d",
     "grade": true,
     "grade_id": "cell-7fed4551511c0644",
     "locked": false,
     "points": 2,
     "schema_version": 1,
     "solution": true
    }
   },
   "outputs": [],
   "source": [
    "def ode_test_jac(y, t):\n",
    "    return np.array([t,1])\n",
    "\n",
    "def bc_test(y0, yend):\n",
    "    \"\"\"\n",
    "    :param y0: Wert am linken Intervallrand\n",
    "    :param yend: Wert am rechten Intervallrand\n",
    "    :return: Fehler in den Randwerten\n",
    "    \"\"\"\n",
    "    return np.array([y0[0] - 0, yend[0] - 2])\n"
   ]
  },
  {
   "cell_type": "code",
   "execution_count": 61,
   "metadata": {},
   "outputs": [
    {
     "data": {
      "text/plain": [
       "array([[0., 0.],\n",
       "       [0., 0.]])"
      ]
     },
     "execution_count": 61,
     "metadata": {},
     "output_type": "execute_result"
    }
   ],
   "source": [
    "tol = 1e-4\n",
    "rtol = tol\n",
    "atol = tol\n",
    "\n",
    "y0 = np.array([4,0])\n",
    "tinterval = np.array([0., 2.])\n",
    "jac_bc(ode_test_jac, tinterval, y0, bc_test, rtol, atol)\n"
   ]
  },
  {
   "cell_type": "code",
   "execution_count": null,
   "metadata": {
    "deletable": false,
    "nbgrader": {
     "checksum": "7214cba58e0712e7ce796affbefacb0f",
     "grade": true,
     "grade_id": "cell-191eaf45973ca4e2",
     "locked": false,
     "points": 2,
     "schema_version": 1,
     "solution": true
    }
   },
   "outputs": [],
   "source": []
  },
  {
   "cell_type": "markdown",
   "metadata": {
    "deletable": false,
    "editable": false,
    "nbgrader": {
     "checksum": "867f2fdd3877631ae3ca91a9d47d02a4",
     "grade": false,
     "grade_id": "cell-b18916514a2717f4",
     "locked": true,
     "schema_version": 1,
     "solution": false
    }
   },
   "source": [
    "Bewertung des Codes:"
   ]
  },
  {
   "cell_type": "code",
   "execution_count": null,
   "metadata": {
    "deletable": false,
    "nbgrader": {
     "checksum": "91bd77162d029d9e4de5f15d07eccbf6",
     "grade": true,
     "grade_id": "cell-f4590010dc4a4871",
     "locked": false,
     "points": 3,
     "schema_version": 1,
     "solution": true
    }
   },
   "outputs": [],
   "source": []
  },
  {
   "cell_type": "markdown",
   "metadata": {
    "deletable": false,
    "editable": false,
    "nbgrader": {
     "checksum": "9185a9685a6b83bd22524760cf97c634",
     "grade": false,
     "grade_id": "cell-12253a888d7fbe8f",
     "locked": true,
     "schema_version": 1,
     "solution": false
    }
   },
   "source": [
    "##  \n",
    "\n",
    "Schreiben Sie eine python-Funktion `shoot`, die ein Schießverfahren mit der geg. Signatur implementiert. \n",
    " * Zur Lösung der Differentialgleichung sollen wieder die Bibliotheksroutine odeint verwenden.\n",
    " * Die nichtlinearen Randwertgleichungen sollen mit dem Newton-Verfahren gelöst werden.\n",
    " * Die dazu erforderliche Jacobi-Matrix soll in der Routinen `jac_bc` numerisch berechnet werden. \n",
    " \n",
    " Wie sollte  man das Abbruchkriterium für die Newton-Iteration wählen?\n",
    " \n",
    " Testen Sie die erhaltenen Lösungen."
   ]
  },
  {
   "cell_type": "code",
   "execution_count": 62,
   "metadata": {},
   "outputs": [],
   "source": [
    "def shoot(ode, tinterval, y0, bc, rtol, atol):\n",
    "    '''\n",
    "    :param ode: rechte Seite der Differentialgleichung\n",
    "    :param t: Integrationsintervall [t0, tend]\n",
    "    :param y0: Iterations-Startwert für y\n",
    "    :param bc: Funktion, die die Residuen  in den Randwerten ausrechnet\n",
    "    bc(y0, yend), Rückgabewert ist n-dim np.array\n",
    "    :param rtol, atol: relative und absolute Toleranz (insbes. für odeint), s. odeint\n",
    "    :return: Startwert für y0, der die bc zu 0 macht\n",
    "    '''\n",
    "    yend = odeint(ode, y0, tinterval, rtol=rtol, atol=atol)[-1]\n",
    "    residuum = bc(y0, yend)\n",
    "    eps = np.linalg.norm(y0)*rtol + atol\n",
    "    jacobi = jac_bc(ode, tinterval, y0, bc, rtol, atol)\n",
    "\n",
    "    while eps < np.linalg.norm(residuum):\n",
    "        #jacobi = jac_bc(ode, tinterval, y0, bc, rtol, atol)\n",
    "        dy = np.linalg.solve(jacobi, residuum)\n",
    "        y0 = y0 - dy\n",
    "        yend = odeint(ode, y0, tinterval, rtol=rtol, atol=atol)[-1]\n",
    "        residuum = bc(y0, yend)\n",
    "\n",
    "    return y0"
   ]
  },
  {
   "cell_type": "code",
   "execution_count": 63,
   "metadata": {
    "deletable": false,
    "editable": false,
    "nbgrader": {
     "checksum": "c94cf10d78439e2b538da1088a4538bd",
     "grade": true,
     "grade_id": "cell-3560c2faef3be64b",
     "locked": true,
     "points": 4,
     "schema_version": 1,
     "solution": false
    }
   },
   "outputs": [],
   "source": [
    "tol = 1e-5\n",
    "rtol = tol\n",
    "atol = tol\n",
    "from scipy.integrate import odeint\n",
    "import numpy as np\n",
    "import numpy.linalg as la\n",
    "\n",
    "y0 = np.array([0., 5.])\n",
    "tinterval = np.array([0., 2.])\n",
    "ylsg =      shoot(ode_auto, tinterval, y0, bc_auto, rtol, atol)\n",
    "ylsge = bvp.shoot(ode_auto, tinterval, y0, bc_auto, rtol, atol)\n",
    "assert np.allclose(ylsg, ylsge)"
   ]
  },
  {
   "cell_type": "code",
   "execution_count": 64,
   "metadata": {
    "deletable": false,
    "editable": false,
    "nbgrader": {
     "checksum": "2f9a33691ad8ef7bcc0ce82d5dbb7071",
     "grade": true,
     "grade_id": "cell-53f1d4a3f3054041",
     "locked": true,
     "points": 5,
     "schema_version": 1,
     "solution": false
    }
   },
   "outputs": [],
   "source": [
    "y0 = np.array([1., 1.])\n",
    "tinterval = np.array([1., 2.])\n",
    "ylsg =      shoot(ode_bsp1, tinterval, y0, bc_bsp1, rtol, atol)\n",
    "ylsge = bvp.shoot(ode_bsp1, tinterval, y0, bc_bsp1, rtol, atol)\n",
    "\n",
    "if not np.allclose(ylsg, ylsge):\n",
    "    print('Student solution:', ylsg)\n",
    "    print('Docent solution: ', ylsge)\n",
    "assert np.allclose(ylsg, ylsge)"
   ]
  },
  {
   "cell_type": "code",
   "execution_count": 65,
   "metadata": {
    "deletable": false,
    "nbgrader": {
     "checksum": "3020060008e35975b9e711ff52f1294d",
     "grade": true,
     "grade_id": "cell-0f3f38f36093af30",
     "locked": false,
     "points": 2,
     "schema_version": 1,
     "solution": true
    }
   },
   "outputs": [
    {
     "name": "stdout",
     "output_type": "stream",
     "text": [
      "error:  [0.1 0.1] \n",
      " ylsg:  [-8.75062269e-23  1.49999796e+00] \n",
      "ylsge:  [-6.64862236e-22  1.49998860e+00]\n"
     ]
    }
   ],
   "source": [
    "tol = 1e-5\n",
    "rtol = tol\n",
    "atol = tol\n",
    "tinterval = np.array([1., 2.])\n",
    "y0 = np.array([1.1, 1.1])\n",
    "ylsg =      shoot(ode_bsp1, tinterval, y0, bc_bsp1, rtol, atol)\n",
    "ylsge = bvp.shoot(ode_bsp1, tinterval, y0, bc_bsp1, rtol, atol)\n",
    "if(ylsg[0] != ylsge[0] and ylsg[1] != ylsge[1]):\n",
    "    print(\"error: \\n\", \"ylsg: \", ylsg, \"\\nylsge: \", ylsge)\n",
    "    \n",
    "y0 = np.array([0.5, 0.5])\n",
    "ylsg =      shoot(ode_bsp1, tinterval, y0, bc_bsp1, rtol, atol)\n",
    "ylsge = bvp.shoot(ode_bsp1, tinterval, y0, bc_bsp1, rtol, atol)\n",
    "if(ylsg[0] != ylsge[0] and ylsg[1] != ylsge[1]):\n",
    "    print(\"error: \\n\", \"ylsg: \", ylsg, \"\\nylsge: \", ylsge)\n",
    "    \n",
    "    \n",
    "y0 = np.array([0.1, 0.1])\n",
    "ylsg =      shoot(ode_bsp1, tinterval, y0, bc_bsp1, rtol, atol)\n",
    "ylsge = bvp.shoot(ode_bsp1, tinterval, y0, bc_bsp1, rtol, atol)\n",
    "if(ylsg[0] != ylsge[0] and ylsg[1] != ylsge[1]):\n",
    "    print(\"error: \", y0, \"\\n\", \"ylsg: \", ylsg, \"\\nylsge: \", ylsge)\n",
    "    \n",
    "y0 = np.array([1., 0.001])\n",
    "ylsg =      shoot(ode_bsp1, tinterval, y0, bc_bsp1, rtol, atol)\n",
    "ylsge = bvp.shoot(ode_bsp1, tinterval, y0, bc_bsp1, rtol, atol)\n",
    "if(ylsg[0] != ylsge[0] and ylsg[1] != ylsge[1]):\n",
    "    print(\"error: \", y0, \"\\n\", \"ylsg: \", ylsg, \"\\nylsge: \", ylsge)\n",
    "    \n",
    "y0 = np.array([0.01, 1.])\n",
    "ylsg =      shoot(ode_bsp1, tinterval, y0, bc_bsp1, rtol, atol)\n",
    "ylsge = bvp.shoot(ode_bsp1, tinterval, y0, bc_bsp1, rtol, atol)\n",
    "if(ylsg[0] != ylsge[0] and ylsg[1] != ylsge[1]):\n",
    "    print(\"error: \", y0, \"\\n\", \"ylsg: \", ylsg, \"\\nylsge: \", ylsge)"
   ]
  },
  {
   "cell_type": "markdown",
   "metadata": {
    "deletable": false,
    "editable": false,
    "nbgrader": {
     "checksum": "51965e18b922257b7703b9d495987c65",
     "grade": false,
     "grade_id": "cell-4be696dee65eb6e2",
     "locked": true,
     "schema_version": 1,
     "solution": false
    }
   },
   "source": [
    "Meine Gedanken zur Implementation, zu Tests, zur Wahl der Genauigkeiten:"
   ]
  },
  {
   "cell_type": "markdown",
   "metadata": {
    "deletable": false,
    "nbgrader": {
     "checksum": "c3b268903d621db116bca3cf62d93bad",
     "grade": true,
     "grade_id": "cell-192ea1fca1c71886",
     "locked": false,
     "points": 4,
     "schema_version": 1,
     "solution": true
    }
   },
   "source": [
    "Tests:  \n",
    "Bei den Tests wollte ich versuchen möglichst viele verschiedene Werte auszuprobieren. Dafür habe ich zwei for Schleifen verwendet. Warum ich bei 0.1 0.1 eine andere Lösung bekomme kann ich mir leider nicht erklären.  \n",
    "  \n",
    "Impementation:   \n",
    "Der Algorithmus verwendet verbessert das gegebene y0 solange mithilfe des Newton Verfahrens bis der Fehler zwischen den tatsächlichen und den gegebenen Randwerten die gegebene Toleranz unterschreitet. Dieser Fehler mit jedem Newton Schritt neu berechnet.  \n",
    "  \n",
    "Genauigkeit:  \n",
    "Damit bestimmen die Toleranzen die Genauigkeit des Ergebnisses. Entscheident ist hierbei die Unterscheidung zwischen relativer und absoluter Toleranz. Die relative Toleranz sort für eine Verhältnismäßigkeit der absoluten Toleranz. So werden die Eingabewerte zur Berechnung der gesamt Toleranz mit der relativen multipliziert und der absoluten Toleranz addiert. "
   ]
  },
  {
   "cell_type": "markdown",
   "metadata": {
    "deletable": false,
    "editable": false,
    "nbgrader": {
     "checksum": "664c29e5f9e5319813b1cede05a2fdae",
     "grade": false,
     "grade_id": "cell-5917d98608e8fc5e",
     "locked": true,
     "schema_version": 1,
     "solution": false
    }
   },
   "source": [
    "##  \n",
    "Plotten Sie für beide Beispiele die Start- und Lösungstrajektorien sowie die Randwerte für beide Beispiele.\n",
    "Wie viele Iterationen benötigt Ihr Newton-Verfahren? Warum bei dem Beispiel aus der Vorlesung (Auto) so viel weniger als bei Beispiel 1?"
   ]
  },
  {
   "cell_type": "markdown",
   "metadata": {
    "deletable": false,
    "editable": false,
    "nbgrader": {
     "checksum": "ca892d0078a4d49fadf7bf283566edf4",
     "grade": false,
     "grade_id": "cell-b7ea7eee8d48fe7a",
     "locked": true,
     "schema_version": 1,
     "solution": false
    }
   },
   "source": [
    "Meine Tests und Plots:"
   ]
  },
  {
   "cell_type": "code",
   "execution_count": 66,
   "metadata": {},
   "outputs": [],
   "source": [
    "tol = 1e-5\n",
    "rtol = tol\n",
    "atol = tol"
   ]
  },
  {
   "cell_type": "code",
   "execution_count": 67,
   "metadata": {
    "deletable": false,
    "nbgrader": {
     "checksum": "f6d34df8e1723a056352dc7b253843cd",
     "grade": true,
     "grade_id": "cell-fe1fe5d635f9a8c5",
     "locked": false,
     "points": 3,
     "schema_version": 1,
     "solution": true
    }
   },
   "outputs": [],
   "source": [
    "# Auto-Beispiel\n",
    "# YOUR CODE HERE\n",
    "# Beispiel Auto\n",
    "\n",
    "tinterval = np.array([0., 2.])\n",
    "\n",
    "x = np.linspace(0, 2, 101)\n",
    "\n",
    "y0 = np.array([5., 0])\n",
    "sol = odeint(ode_auto, y0, x, rtol=rtol, atol=atol)\n",
    "sol_y_start = sol[:,0]\n",
    "\n",
    "y0_end = shoot(ode_auto, tinterval, y0, bc_auto, rtol, atol)\n",
    "sol = odeint(ode_auto, y0_end, x, rtol=rtol, atol=atol)\n",
    "sol_y_end = sol[:,0]"
   ]
  },
  {
   "cell_type": "markdown",
   "metadata": {},
   "source": [
    "Randwerte  \n",
    "y0: [5, 0]  \n",
    "yend0: [-12.64076696 -14.20706222]  \n",
    "1. Iteration:  \n",
    "    y1: [-13.08297786   9.4299108 ]  \n",
    "    yend1: [-7.84411766 -3.94205468]  \n",
    "2. Iteration:  \n",
    "    y2: [10.0072      9.42697142]  \n",
    "    yend2: [  1.00294486 -15.4295376 ]  \n",
    "3. Iteration:  \n",
    "    y3: [10.0003645   9.42682261]  \n",
    "    yend3: [  1.00013973 -15.42615701]  \n",
    "4. Iteration:  \n",
    "    y4: [10.00000002  9.4268226 ]  \n",
    "    yend4: [  1.00000001 -15.42597568]  \n"
   ]
  },
  {
   "cell_type": "code",
   "execution_count": 68,
   "metadata": {
    "scrolled": true
   },
   "outputs": [
    {
     "data": {
      "image/png": "[encoded data removed]",
      "text/plain": [
       "<matplotlib.figure.Figure at 0x21af17d3b00>"
      ]
     },
     "metadata": {},
     "output_type": "display_data"
    }
   ],
   "source": [
    "plt.plot(x[:],sol_y_start, label=\"Starttrajektorie\")\n",
    "plt.plot(x[:],sol_y_end, label=\"Endtrajektorie\")\n",
    "plt.legend()\n",
    "plt.show()"
   ]
  },
  {
   "cell_type": "code",
   "execution_count": 69,
   "metadata": {
    "deletable": false,
    "nbgrader": {
     "checksum": "1145ee0673e6553744f9765d2ad1ee1e",
     "grade": true,
     "grade_id": "cell-95d1c742652e466d",
     "locked": false,
     "points": 3,
     "schema_version": 1,
     "solution": true
    }
   },
   "outputs": [],
   "source": [
    "# Beispiel 1\n",
    "y0 = np.array([1., 1.])\n",
    "tinterval = np.array([1., 2.])\n",
    "x = np.linspace(1, 2, 101)\n",
    "\n",
    "sol = odeint(ode_bsp1, y0, x, rtol=rtol, atol=atol)\n",
    "sol_y_start = sol[:,0]\n",
    "\n",
    "y0_end = shoot(ode_bsp1, tinterval, y0, bc_bsp1, rtol, atol)\n",
    "sol = odeint(ode_bsp1, y0_end, x, rtol=rtol, atol=atol)\n",
    "sol_y_end = sol[:,0]"
   ]
  },
  {
   "cell_type": "code",
   "execution_count": 70,
   "metadata": {},
   "outputs": [
    {
     "data": {
      "image/png": "[encoded data removed]",
      "text/plain": [
       "<matplotlib.figure.Figure at 0x21af196fe80>"
      ]
     },
     "metadata": {},
     "output_type": "display_data"
    }
   ],
   "source": [
    "plt.plot(x[:],sol_y_start, label=\"Starttrajektorie\")\n",
    "plt.plot(x[:],sol_y_end, label=\"Endtrajektorie\")\n",
    "plt.legend()\n",
    "plt.show()"
   ]
  },
  {
   "cell_type": "code",
   "execution_count": 71,
   "metadata": {
    "deletable": false,
    "nbgrader": {
     "checksum": "4a08ba37f7c178567f07f22aa87e8816",
     "grade": false,
     "grade_id": "cell-fe478aaada98854c",
     "locked": false,
     "schema_version": 1,
     "solution": true
    }
   },
   "outputs": [],
   "source": [
    "def shootPlot(ode, tinterval, y0, bc, rtol, atol):\n",
    "    '''\n",
    "    :param ode: rechte Seite der Differentialgleichung\n",
    "    :param t: Integrationsintervall [t0, tend]\n",
    "    :param y0: Iterations-Startwert für y\n",
    "    :param bc: Funktion, die die Residuen  in den Randwerten ausrechnet\n",
    "    bc(y0, yend), Rückgabewert ist n-dim np.array\n",
    "    :param rtol, atol: relative und absolute Toleranz (insbes. für odeint), s. odeint\n",
    "    :return: Startwert für y0, der die bc zu 0 macht\n",
    "    '''\n",
    "    sol0 = odeint(ode, y0, tinterval, rtol=rtol, atol=atol)\n",
    "    yend0 = sol0[-1]\n",
    "    res = bc(y0, yend0)\n",
    "    jac = jac_bc(ode, tinterval, y0, bc, rtol, atol)\n",
    "    result = []\n",
    "    while la.norm(res) > rtol * np.linalg.norm(y0) + atol:\n",
    "        try:\n",
    "            dy = la.solve(jac, res)\n",
    "        except:\n",
    "            dy = la.lstsq(jac, res)[0]\n",
    "            print('LSQ used', dy)\n",
    "            return (\n",
    "             jac, res, dy)\n",
    "\n",
    "        y0 = y0 - dy\n",
    "        sol = odeint(ode, y0, tinterval, rtol=rtol, atol=atol)\n",
    "        yend = sol[-1]\n",
    "        res = bc(y0, yend)\n",
    "        result.append(y0)\n",
    "\n",
    "    return result\n"
   ]
  },
  {
   "cell_type": "code",
   "execution_count": 72,
   "metadata": {},
   "outputs": [
    {
     "name": "stdout",
     "output_type": "stream",
     "text": [
      "Anzahl der Iterationen:  1\n",
      "Jacobi Matrix Randwerte: \n",
      " [[1.         0.        ]\n",
      " [0.38330295 1.24372176]]\n",
      "Kondition der Jacobi Matrix: \n",
      " 1.4986015977103089\n"
     ]
    }
   ],
   "source": [
    "# Auto\n",
    "tinterval = np.array([0., 2.])\n",
    "x = np.linspace(0, 2, 101)\n",
    "y0 = np.array([5., 0])\n",
    "\n",
    "sol = odeint(ode_auto, y0, x, rtol=rtol, atol=atol)\n",
    "sol_y_start = sol[:,0]\n",
    "\n",
    "results = shootPlot(ode_auto, tinterval, y0, bc_auto, rtol, atol)\n",
    "jacobi = jac_bc(ode_auto, tinterval, y0, bc_auto, rtol, atol)\n",
    "print(\"Anzahl der Iterationen: \", len(results))\n",
    "print(\"Jacobi Matrix Randwerte: \\n\", jacobi)\n",
    "print(\"Kondition der Jacobi Matrix: \\n\", np.linalg.cond(jacobi))"
   ]
  },
  {
   "cell_type": "code",
   "execution_count": 73,
   "metadata": {},
   "outputs": [
    {
     "data": {
      "image/png": "[encoded data removed]",
      "text/plain": [
       "<matplotlib.figure.Figure at 0x21af2a682e8>"
      ]
     },
     "metadata": {},
     "output_type": "display_data"
    }
   ],
   "source": [
    "plt.plot(x[:],sol_y_start, label=\"Starttrajektorie\")\n",
    "for y0_end in results:\n",
    "    sol = odeint(ode_auto, y0_end, x, rtol=rtol, atol=atol)\n",
    "    sol_y_end = sol[:,0]\n",
    "    plt.plot(x[:],sol_y_end)\n",
    "plt.legend()\n",
    "plt.show()"
   ]
  },
  {
   "cell_type": "code",
   "execution_count": 74,
   "metadata": {
    "deletable": false,
    "nbgrader": {
     "checksum": "17db2a61cdffa7fcb0041ca9cd5c7de2",
     "grade": true,
     "grade_id": "cell-9baf92bc0c99cf91",
     "locked": false,
     "points": 2,
     "schema_version": 1,
     "solution": true
    }
   },
   "outputs": [
    {
     "name": "stdout",
     "output_type": "stream",
     "text": [
      "48\n",
      "Anzahl der Iterationen:  1\n",
      "Jacobi Matrix Randwerte: \n",
      " [[  1.           0.        ]\n",
      " [-16.19183238   8.66330306]]\n",
      "Kondition der Jacobi Matrix: \n",
      " 39.015858938448616\n"
     ]
    }
   ],
   "source": [
    "# Beispiel 1\n",
    "tol = 1e-5\n",
    "rtol = tol\n",
    "atol = tol\n",
    "\n",
    "y0 = np.array([1., 1.])\n",
    "tinterval = np.array([1., 2.])\n",
    "x = np.linspace(1, 2, 101)\n",
    "\n",
    "sol = odeint(ode_bsp1, y0, x, rtol=rtol, atol=atol)\n",
    "sol_y_start = sol[:,0]\n",
    "\n",
    "results1 = shootPlot(ode_bsp1, tinterval, y0, bc_bsp1, rtol, atol)\n",
    "jacobi = jac_bc(ode_bsp1, tinterval, y0, bc_bsp1, rtol, atol)\n",
    "print(len(results1))\n",
    "print(\"Anzahl der Iterationen: \", len(results))\n",
    "print(\"Jacobi Matrix Randwerte: \\n\", jacobi)\n",
    "print(\"Kondition der Jacobi Matrix: \\n\", np.linalg.cond(jacobi))"
   ]
  },
  {
   "cell_type": "code",
   "execution_count": 75,
   "metadata": {},
   "outputs": [
    {
     "data": {
      "image/png": "[encoded data removed]",
      "text/plain": [
       "<matplotlib.figure.Figure at 0x21af29f9668>"
      ]
     },
     "metadata": {},
     "output_type": "display_data"
    }
   ],
   "source": [
    "#plt.plot(x[:],sol_y_start, label=\"Starttrajektorie\")\n",
    "for y0_end in results1[::1]:\n",
    "    sol = odeint(ode_bsp1, y0_end, x, rtol=rtol, atol=atol)\n",
    "    sol_y_end = sol[:,0]\n",
    "    plt.plot(x[:],sol_y_end)\n",
    "plt.show()"
   ]
  },
  {
   "cell_type": "markdown",
   "metadata": {},
   "source": [
    "(zusammen mit Jonas Goltz)\n",
    "\n",
    "Bei der Betrachtung der Jacobimatrizen fällt auf, dass im Auto Beispiel die Einträge vergleichbare Größenordnungen haben. Im Beispiel1 sind diese deutlich unterschiedlich.\n",
    "\n",
    "Das unterschiedlich gute Konvergenzverhalten liegt an der Kondition der Jacobimatrizen, je schlechter eine Matrix konditioniert ist umso langsamer ist das Konvergenzverhalten. Eine Matrix gilt als schlecht konditioniert, wenn die Kondition deutlich über 1 liegt. Für unser Auto Beispielt liegt diese bei etwa 1.5, während sie für das zweite Beispiel bei über 39 liegt. Damit gilt das Auto Beispiel noch als relativ gut konditioniert, während unser Beispiel 1 schlecht konditioniert ist.\n"
   ]
  },
  {
   "cell_type": "code",
   "execution_count": null,
   "metadata": {},
   "outputs": [],
   "source": []
  }
 ],
 "metadata": {
  "kernelspec": {
   "display_name": "Python 3",
   "language": "python",
   "name": "python3"
  },
  "language_info": {
   "codemirror_mode": {
    "name": "ipython",
    "version": 3
   },
   "file_extension": ".py",
   "mimetype": "text/x-python",
   "name": "python",
   "nbconvert_exporter": "python",
   "pygments_lexer": "ipython3",
   "version": "3.6.4"
  },
  "toc": {
   "nav_menu": {},
   "number_sections": true,
   "sideBar": true,
   "skip_h1_title": false,
   "title_cell": "Table of Contents",
   "title_sidebar": "Contents",
   "toc_cell": false,
   "toc_position": {},
   "toc_section_display": true,
   "toc_window_display": false
  },
  "varInspector": {
   "cols": {
    "lenName": 16,
    "lenType": 16,
    "lenVar": 40
   },
   "kernels_config": {
    "python": {
     "delete_cmd_postfix": "",
     "delete_cmd_prefix": "del ",
     "library": "var_list.py",
     "varRefreshCmd": "print(var_dic_list())"
    },
    "r": {
     "delete_cmd_postfix": ") ",
     "delete_cmd_prefix": "rm(",
     "library": "var_list.r",
     "varRefreshCmd": "cat(var_dic_list()) "
    }
   },
   "types_to_exclude": [
    "module",
    "function",
    "builtin_function_or_method",
    "instance",
    "_Feature"
   ],
   "window_display": false
  }
 },
 "nbformat": 4,
 "nbformat_minor": 2
}
