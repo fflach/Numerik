{
 "cells": [
  {
   "cell_type": "markdown",
   "metadata": {},
   "source": [
    "Bevor Sie dieses Notebook abgeben, testen Sie, ob alles so funktioniert, wie Sie es erwarten. So sollten Sie z.B. den ** Kernel neu starten** (im Menu w&auml;hlen Sie Kernel$\\rightarrow$Restart) und dann ** alle Zellen ausf&uuml;hren **  (im Menu w&auml;hlen Sie Cell$\\rightarrow$Run All).\n",
    "\n",
    "F&uuml;llen Sie alle Stellen, die mit  `YOUR CODE HERE` or \"YOUR ANSWER HERE\" aus. Sie d&uuml;rfen zus&auml;tzlich eigene Zellen und Funktionen definieren, nicht jedoch die Signaturen der gegebenen Funktionsr&uuml;mpfe &auml;ndern.\n",
    "\n",
    "Bitte beachten Sie auch die \"Hinweise zu den Abgaben\"-Datei in Moodle."
   ]
  },
  {
   "cell_type": "code",
   "execution_count": null,
   "metadata": {},
   "outputs": [],
   "source": [
    "NAME = \"\""
   ]
  },
  {
   "cell_type": "markdown",
   "metadata": {},
   "source": [
    "---"
   ]
  },
  {
   "cell_type": "markdown",
   "metadata": {
    "toc": true
   },
   "source": [
    "<h1>Table of Contents<span class=\"tocSkip\"></span></h1>\n",
    "<div class=\"toc\"><ul class=\"toc-item\"><li><span><a href=\"#Studienarbeit-Optimierung\" data-toc-modified-id=\"Studienarbeit-Optimierung-1\"><span class=\"toc-item-num\">1&nbsp;&nbsp;</span>Studienarbeit Optimierung</a></span><ul class=\"toc-item\"><li><span><a href=\"#Aufgabe-1\" data-toc-modified-id=\"Aufgabe-1-1.1\"><span class=\"toc-item-num\">1.1&nbsp;&nbsp;</span>Aufgabe 1</a></span></li><li><span><a href=\"#Aufgabe-2:-Wasserstände-in-New-York-im-April-2018\" data-toc-modified-id=\"Aufgabe-2:-Wasserstände-in-New-York-im-April-2018-1.2\"><span class=\"toc-item-num\">1.2&nbsp;&nbsp;</span>Aufgabe 2: Wasserstände in New York im April 2018</a></span></li></ul></li></ul></div>"
   ]
  },
  {
   "cell_type": "markdown",
   "metadata": {},
   "source": [
    "# Studienarbeit Optimierung"
   ]
  },
  {
   "cell_type": "code",
   "execution_count": null,
   "metadata": {
    "deletable": false,
    "editable": false,
    "nbgrader": {
     "checksum": "01dfa74b2077346ccb62cff7c4b903b9",
     "grade": false,
     "grade_id": "cell-f73faed4da3de03f",
     "locked": true,
     "schema_version": 1,
     "solution": false
    }
   },
   "outputs": [],
   "source": [
    "import myopt"
   ]
  },
  {
   "cell_type": "markdown",
   "metadata": {
    "deletable": false,
    "editable": false,
    "nbgrader": {
     "checksum": "360e4f8efa60e714c1ecb0654ca751db",
     "grade": false,
     "grade_id": "cell-b7871f2b98736ab4",
     "locked": true,
     "schema_version": 1,
     "solution": false
    }
   },
   "source": [
    "## Aufgabe 1"
   ]
  },
  {
   "cell_type": "markdown",
   "metadata": {
    "deletable": false,
    "editable": false,
    "nbgrader": {
     "checksum": "d551d6a66fe7188b3e170872b4eb9ab1",
     "grade": false,
     "grade_id": "cell-c6ad6c4b28c0761b",
     "locked": true,
     "schema_version": 1,
     "solution": false
    }
   },
   "source": [
    "Die Konzentration eines Medikaments im Blut fällt exponentiell mit der Zeit. Dazu soll die Modellfunktion $$ f(t,x)=x_1e^{x_2 t}+x_3$$\n",
    "an die Daten\n",
    "\n",
    "| t | 0.5 | 1   | 1.5 | 2    | 2.5  | 3    | 3.5 | 4    |\n",
    "|---|-----|-----|-----|------|------|------|-----|------|\n",
    "| y | 7.8 | 4.0 | 2.5 | 1.75 | 1.48 | 1.25 | 1.2 | 1.15 |\n",
    "\n",
    "angepasst werden.\n",
    "Fitten Sie die Daten mit der scipy Bibliotheksroutine leastsq.\n",
    "Speichern Sie die Werte der Parameter in einem numpy-array mit dem Namen `lsg_medikament`."
   ]
  },
  {
   "cell_type": "code",
   "execution_count": null,
   "metadata": {
    "deletable": false,
    "nbgrader": {
     "checksum": "cbfe264197a22782c27fcc73bce68b25",
     "grade": true,
     "grade_id": "cell-0367365934fc9eac",
     "locked": false,
     "points": 2,
     "schema_version": 1,
     "solution": true
    }
   },
   "outputs": [],
   "source": [
    "# YOUR CODE HERE\n",
    "raise NotImplementedError()"
   ]
  },
  {
   "cell_type": "code",
   "execution_count": null,
   "metadata": {
    "deletable": false,
    "editable": false,
    "nbgrader": {
     "checksum": "06def1d4e806f478b2110719891979ca",
     "grade": true,
     "grade_id": "cell-5fc1353664fb924b",
     "locked": true,
     "points": 2,
     "schema_version": 1,
     "solution": false
    }
   },
   "outputs": [],
   "source": [
    "# Hidden Tests"
   ]
  },
  {
   "cell_type": "markdown",
   "metadata": {
    "deletable": false,
    "editable": false,
    "nbgrader": {
     "checksum": "b8c9e700cfb5ff071fb8007a2a282492",
     "grade": false,
     "grade_id": "cell-c5968bcaef64d606",
     "locked": true,
     "schema_version": 1,
     "solution": false
    }
   },
   "source": [
    "Plotten Sie Daten und die gefittete Funktion."
   ]
  },
  {
   "cell_type": "code",
   "execution_count": null,
   "metadata": {
    "deletable": false,
    "nbgrader": {
     "checksum": "8d4136bce2c3f1491f7bc9a8535d1740",
     "grade": true,
     "grade_id": "cell-63c05b88d904d288",
     "locked": false,
     "points": 1,
     "schema_version": 1,
     "solution": true
    }
   },
   "outputs": [],
   "source": [
    "# YOUR CODE HERE\n",
    "raise NotImplementedError()"
   ]
  },
  {
   "cell_type": "markdown",
   "metadata": {
    "deletable": false,
    "editable": false,
    "nbgrader": {
     "checksum": "12a626022935310042c8276817d1b983",
     "grade": false,
     "grade_id": "cell-79aa85e0c2f7dc04",
     "locked": true,
     "schema_version": 1,
     "solution": false
    }
   },
   "source": [
    "## Aufgabe 2: Wasserstände in New York im April 2018\n",
    "\n",
    "In der Datei NY-4-18-60.csv finden Sie die Wasserstände von New York im April 2018, s. https://tidesandcurrents.noaa.gov/waterlevels.html?id=8516945&units=metric&bdate=20180401&edate=20180430&timezone=GMT&datum=MLLW&interval=6&action=data\n",
    "in stündlicher Messung. \n",
    "Im folgenden sollen die Parameter in der Funktion\n",
    "$$ f(t)= A \\sin(\\omega t +\\phi)+ c $$\n",
    "an die Daten für die ersten 4 Apriltage angepasst werden. "
   ]
  },
  {
   "cell_type": "code",
   "execution_count": null,
   "metadata": {
    "deletable": false,
    "editable": false,
    "nbgrader": {
     "checksum": "0c17b79a806aad16e54f06dd357a0678",
     "grade": false,
     "grade_id": "cell-9637c6beedd3a6a0",
     "locked": true,
     "schema_version": 1,
     "solution": false
    }
   },
   "outputs": [],
   "source": [
    "import pandas as pd\n",
    "from datetime import datetime, timedelta\n",
    "df60 = pd.read_csv('NY-4-18-60.csv', sep=',')  # stündliche Messungen\n",
    "df60 = df60[['Date Time', ' Water Level']]\n",
    "fmt = '%Y-%m-%d %H:%M'\n",
    "\n",
    "\n",
    "def timediff_min(d2, d1='2018-04-01 00:00'):\n",
    "    d1A = datetime.strptime(d1, fmt)\n",
    "    d2A = datetime.strptime(d2, fmt)\n",
    "    tdiff = d2A-d1A\n",
    "    return tdiff.total_seconds()/(60*60)  # in Stunden\n",
    "\n",
    "\n",
    "df60['time_min'] = df60['Date Time'].apply(timediff_min)\n",
    "\n",
    "ntage = 4  # Anzahl der berücksichtigten Tage (max=30)\n",
    "N = 24*ntage\n",
    "\n",
    "tvals_tide = df60['time_min'][:N]\n",
    "yvals_tide = df60[' Water Level'][:N]"
   ]
  },
  {
   "cell_type": "markdown",
   "metadata": {
    "deletable": false,
    "editable": false,
    "nbgrader": {
     "checksum": "cc6edc33337ec4ece77aa92e9a1d660d",
     "grade": false,
     "grade_id": "cell-b9ff67ac33fc41be",
     "locked": true,
     "schema_version": 1,
     "solution": false
    }
   },
   "source": [
    "Der obige Code liest die Daten aus einer auf der Webseite heruntergeladenen csv-Datei ein. \n",
    "Beschreiben und begründen Sie die einzelnen Schritte. Informieren Sie sich dazu über das pandas-und das datetime-Paket. "
   ]
  },
  {
   "cell_type": "markdown",
   "metadata": {
    "collapsed": true,
    "deletable": false,
    "nbgrader": {
     "checksum": "980882837b80c746913d99373486ec8b",
     "grade": true,
     "grade_id": "cell-b506a93fae0ff51f",
     "locked": false,
     "points": 2,
     "schema_version": 1,
     "solution": true
    }
   },
   "source": [
    "YOUR ANSWER HERE"
   ]
  },
  {
   "cell_type": "markdown",
   "metadata": {
    "deletable": false,
    "editable": false,
    "nbgrader": {
     "checksum": "9288024bdd112579314cb21c3c482e27",
     "grade": false,
     "grade_id": "cell-a7f52bd4555a9242",
     "locked": true,
     "schema_version": 1,
     "solution": false
    }
   },
   "source": [
    "Aufgabe 1:\n",
    "Schreiben Sie eine Funktion `tide_res(x, t, y)`, wobei x die 4 zu bestimmenden Parameter und t bzw. y die Messwerte y zu den Zeitpunkten t sind.  `tide_res(x, t, y)` gibt die Differenzen zwischen den Messwerten und der obigen Funktion in allen Messpunkten zurück.    "
   ]
  },
  {
   "cell_type": "code",
   "execution_count": null,
   "metadata": {
    "deletable": false,
    "nbgrader": {
     "checksum": "779b9d917a6d96716f610500d4a4b10c",
     "grade": true,
     "grade_id": "cell-d9528bf99d195de0",
     "locked": false,
     "points": 1,
     "schema_version": 1,
     "solution": true
    }
   },
   "outputs": [],
   "source": [
    "# YOUR CODE HERE\n",
    "raise NotImplementedError()"
   ]
  },
  {
   "cell_type": "code",
   "execution_count": null,
   "metadata": {
    "deletable": false,
    "editable": false,
    "nbgrader": {
     "checksum": "f77b6abb42560fc62ede530a9030e1c6",
     "grade": true,
     "grade_id": "cell-bda14914e25f1ded",
     "locked": true,
     "points": 1,
     "schema_version": 1,
     "solution": false
    }
   },
   "outputs": [],
   "source": [
    "# Hidden Tests"
   ]
  },
  {
   "cell_type": "markdown",
   "metadata": {
    "deletable": false,
    "editable": false,
    "nbgrader": {
     "checksum": "8a648e7eab8bc343894a0cf74ad7b937",
     "grade": false,
     "grade_id": "cell-1731ac6ec89cbc2f",
     "locked": true,
     "schema_version": 1,
     "solution": false
    }
   },
   "source": [
    "Unter Verwendung von `least_squares` aus `scipy.optimize` soll das Problem numerisch gelöst werden. Informieren Sie sich, wie python mit optionalen Parametern (`*args`) arbeitet und implementieren Sie Ihre Routinen (insbesondere GaussNewton unten) auf dieser Basis.\n",
    "Speichern Sie die Lösung für die Parameter in der Variablen lsg_tide"
   ]
  },
  {
   "cell_type": "code",
   "execution_count": null,
   "metadata": {
    "deletable": false,
    "editable": false,
    "nbgrader": {
     "checksum": "4db302f631f99811ad2b5e3e5b143dee",
     "grade": true,
     "grade_id": "cell-09b655e3897f1c9e",
     "locked": true,
     "points": 2,
     "schema_version": 1,
     "solution": false
    },
    "slideshow": {
     "slide_type": "fragment"
    }
   },
   "outputs": [],
   "source": [
    "# Hidden Tests"
   ]
  },
  {
   "cell_type": "markdown",
   "metadata": {
    "deletable": false,
    "editable": false,
    "nbgrader": {
     "checksum": "5062d57451574445fba4afc787cdc7c1",
     "grade": false,
     "grade_id": "cell-51d0e9a5b1fec7f8",
     "locked": true,
     "schema_version": 1,
     "solution": false
    }
   },
   "source": [
    "Plotten Sie die Lösungsfunktion gemeinsam mit den Messdaten."
   ]
  },
  {
   "cell_type": "code",
   "execution_count": null,
   "metadata": {
    "deletable": false,
    "nbgrader": {
     "checksum": "febbf6f311e863f467644353ca91da4a",
     "grade": true,
     "grade_id": "cell-64083f070c94233f",
     "locked": false,
     "points": 2,
     "schema_version": 1,
     "solution": true
    }
   },
   "outputs": [],
   "source": [
    "# YOUR CODE HERE\n",
    "raise NotImplementedError()"
   ]
  },
  {
   "cell_type": "markdown",
   "metadata": {
    "deletable": false,
    "editable": false,
    "nbgrader": {
     "checksum": "2a135ac3d1c8dc7aaeff26e55bb314d4",
     "grade": false,
     "grade_id": "cell-0914284553d6af0e",
     "locked": true,
     "schema_version": 1,
     "solution": false
    }
   },
   "source": [
    "Verwenden Sie wieder dieselbe scipy-Fzunktion, übergeben Sie diesmal aber zusätzlich die \n",
    "von Hand berechnete Jacobi-Matrix, die in der Funktion `tide_jac(x, t, y)` berechnet werden soll. Prüfen Sie, ob Ihre berechnete Matrix in der Lösung (speichern in `my_jac`) mit der von scipy berechneten Jacobi-Matrix in der Lösung (speichern in `scipy_jac`) übereinstimmt. "
   ]
  },
  {
   "cell_type": "code",
   "execution_count": null,
   "metadata": {
    "deletable": false,
    "nbgrader": {
     "checksum": "8964a2abfea8109feb59fdae28d33e2b",
     "grade": true,
     "grade_id": "cell-96f0fe2fe884f248",
     "locked": false,
     "points": 4,
     "schema_version": 1,
     "solution": true
    }
   },
   "outputs": [],
   "source": [
    "# YOUR CODE HERE\n",
    "raise NotImplementedError()"
   ]
  },
  {
   "cell_type": "markdown",
   "metadata": {
    "deletable": false,
    "editable": false,
    "nbgrader": {
     "checksum": "911e045ce296bac9af9cc6b1eba45b67",
     "grade": false,
     "grade_id": "cell-a8040a50368ec934",
     "locked": true,
     "schema_version": 1,
     "solution": false
    }
   },
   "source": [
    "Aufgabe: Implementieren Sie selbst ein Gauss-Newton-Verfahren und testen Sie es an obigem Beispiel. Die Jacobi-Matrix soll übergeben werden. Der Code soll ausgeben (print), weshalb die Iteration beendet wurde. In dem Fall, dass das neue Residuum größer als das alte ist, soll die Schrittweite auf die Hälfte reduziert werden.\n",
    "Vergleichen Sie, ob Ihre Lösung mit der der Bibliotheksroutine übereinstimmt. Bei größeren Abweichungen sind Begründungen notwendig."
   ]
  },
  {
   "cell_type": "code",
   "execution_count": null,
   "metadata": {
    "deletable": false,
    "nbgrader": {
     "checksum": "286815fcfb40f1df541540abf6490a6d",
     "grade": true,
     "grade_id": "cell-54db98db09243d76",
     "locked": false,
     "points": 4,
     "schema_version": 1,
     "solution": true
    }
   },
   "outputs": [],
   "source": [
    "import numpy as np\n",
    "import scipy as sp\n",
    "from numpy.linalg import norm\n",
    "\n",
    "\n",
    "def GaussNewton(f, jac, p, args=(), itmax=10, tolres=1e-3, tolinc=1e-6):\n",
    "    \"\"\" \n",
    "    f: vector of residual function values y=f(p)\n",
    "    jac: Jacobian of residual\n",
    "    p: initial guess for parameters\n",
    "    *args: Additional arguments needed for f and/or jac\n",
    "    itmax: maximal number of iterations  \n",
    "    tolres: tolerance for norm of residual (=difference between measurements and function values)\n",
    "    tolinc: tolerance for Newton increment   (stop if one of tolerances is achieved)\n",
    "\n",
    "    return:\n",
    "    p: solution parameter vector\n",
    "    res: residual vector\n",
    "    k: number of iterations   \n",
    "    \"\"\"\n",
    "\n",
    "    # YOUR CODE HERE\n",
    "    raise NotImplementedError()\n",
    "    # Parameter vector, residual, number of iterations used\n",
    "    return p, res, k"
   ]
  },
  {
   "cell_type": "code",
   "execution_count": null,
   "metadata": {
    "deletable": false,
    "editable": false,
    "nbgrader": {
     "checksum": "2fa038d9247b7c8472271afe2fca48df",
     "grade": true,
     "grade_id": "cell-7eb359d0aa6cab5b",
     "locked": true,
     "points": 1,
     "schema_version": 1,
     "solution": false
    }
   },
   "outputs": [],
   "source": [
    "# Hidden Tests"
   ]
  },
  {
   "cell_type": "code",
   "execution_count": null,
   "metadata": {
    "deletable": false,
    "editable": false,
    "nbgrader": {
     "checksum": "25176402df1e1bd2dae5d22544c821ab",
     "grade": true,
     "grade_id": "cell-61aea5ab74f1a830",
     "locked": true,
     "points": 2,
     "schema_version": 1,
     "solution": false
    }
   },
   "outputs": [],
   "source": [
    "# Hidden Tests"
   ]
  },
  {
   "cell_type": "code",
   "execution_count": null,
   "metadata": {
    "deletable": false,
    "editable": false,
    "nbgrader": {
     "checksum": "649ac479114fafcc23ae48de12ae0f36",
     "grade": true,
     "grade_id": "cell-817f8dc28393417e",
     "locked": true,
     "points": 1,
     "schema_version": 1,
     "solution": false
    }
   },
   "outputs": [],
   "source": [
    "# Hidden Tests"
   ]
  },
  {
   "cell_type": "code",
   "execution_count": null,
   "metadata": {
    "deletable": false,
    "editable": false,
    "nbgrader": {
     "checksum": "b4ef3a8f460215a3a602f7e1b45e3c27",
     "grade": true,
     "grade_id": "cell-96c26414f0381e11",
     "locked": true,
     "points": 2,
     "schema_version": 1,
     "solution": false
    }
   },
   "outputs": [],
   "source": [
    "# Hidden Tests"
   ]
  },
  {
   "cell_type": "markdown",
   "metadata": {
    "deletable": false,
    "editable": false,
    "nbgrader": {
     "checksum": "b6f90243d2443b86826837d46918dcd5",
     "grade": false,
     "grade_id": "cell-29f0b68557bd7217",
     "locked": true,
     "schema_version": 1,
     "solution": false
    }
   },
   "source": [
    "So habe ich getestet: (Für Tests mit den myopt-Funktionen gibt es keine Punkte!)"
   ]
  },
  {
   "cell_type": "code",
   "execution_count": null,
   "metadata": {
    "deletable": false,
    "nbgrader": {
     "checksum": "d890131c66fe0c96ebab62c5ed855c4b",
     "grade": true,
     "grade_id": "cell-1c46ebc893805246",
     "locked": false,
     "points": 3,
     "schema_version": 1,
     "solution": true
    }
   },
   "outputs": [],
   "source": [
    "# YOUR CODE HERE\n",
    "raise NotImplementedError()"
   ]
  },
  {
   "cell_type": "code",
   "execution_count": null,
   "metadata": {},
   "outputs": [],
   "source": []
  },
  {
   "cell_type": "code",
   "execution_count": null,
   "metadata": {},
   "outputs": [],
   "source": []
  },
  {
   "cell_type": "code",
   "execution_count": null,
   "metadata": {},
   "outputs": [],
   "source": []
  },
  {
   "cell_type": "code",
   "execution_count": null,
   "metadata": {},
   "outputs": [],
   "source": []
  }
 ],
 "metadata": {
  "kernelspec": {
   "display_name": "Python 3",
   "language": "python",
   "name": "python3"
  },
  "language_info": {
   "codemirror_mode": {
    "name": "ipython",
    "version": 3
   },
   "file_extension": ".py",
   "mimetype": "text/x-python",
   "name": "python",
   "nbconvert_exporter": "python",
   "pygments_lexer": "ipython3",
   "version": "3.6.4"
  },
  "toc": {
   "nav_menu": {},
   "number_sections": true,
   "sideBar": true,
   "skip_h1_title": false,
   "title_cell": "Table of Contents",
   "title_sidebar": "Contents",
   "toc_cell": true,
   "toc_position": {},
   "toc_section_display": true,
   "toc_window_display": false
  }
 },
 "nbformat": 4,
 "nbformat_minor": 2
}
