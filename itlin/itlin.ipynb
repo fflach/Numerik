{
 "cells": [
  {
   "cell_type": "markdown",
   "metadata": {},
   "source": [
    "Bevor Sie dieses Notebook abgeben, testen Sie, ob alles so funktioniert, wie Sie es erwarten. So sollten Sie z.B. den ** Kernel neu starten** (im Menu w&auml;hlen Sie Kernel$\\rightarrow$Restart) und dann ** alle Zellen ausf&uuml;hren **  (im Menu w&auml;hlen Sie Cell$\\rightarrow$Run All).\n",
    "\n",
    "F&uuml;llen Sie alle Stellen, die mit  `YOUR CODE HERE` or \"YOUR ANSWER HERE\" aus. Sie d&uuml;rfen zus&auml;tzlich eigene Zellen und Funktionen definieren, nicht jedoch die Signaturen der gegebenen Funktionsr&uuml;mpfe &auml;ndern.\n",
    "\n",
    "Bitte beachten Sie auch die \"Hinweise zu den Abgaben\"-Datei in Moodle."
   ]
  },
  {
   "cell_type": "code",
   "execution_count": 157,
   "metadata": {},
   "outputs": [],
   "source": [
    "NAME = \"\""
   ]
  },
  {
   "cell_type": "markdown",
   "metadata": {},
   "source": [
    "---"
   ]
  },
  {
   "cell_type": "markdown",
   "metadata": {
    "toc": true
   },
   "source": [
    "<h1>Table of Contents<span class=\"tocSkip\"></span></h1>\n",
    "<div class=\"toc\"><ul class=\"toc-item\"></ul></div>"
   ]
  },
  {
   "cell_type": "code",
   "execution_count": 345,
   "metadata": {},
   "outputs": [],
   "source": [
    "import numpy as np\n",
    "import itlinsta18 as itlin\n",
    "import scipy.linalg as spla\n",
    "from scipy import sparse as sps\n",
    "import matplotlib.pyplot as plt\n",
    "plt.style.use('presentation')"
   ]
  },
  {
   "cell_type": "markdown",
   "metadata": {},
   "source": [
    "Ein Euler-Bernpoulli-Balken ist ein einfaches Modell für die Biegung eines Balkens der Länge $L$ bei Belastung. \n",
    "\n",
    "Die vertikale Auslenkung sei gegeben durch die Funktion $y(x)$, $0\\leq x\\leq L$.\n",
    "$$ EIy''''(x)=f(x) $$\n",
    "wobei $E$ das Elastizitätsmodul (Materialkonstante) und $I$ das Flächenträgheitsmoment des Querschnitts ist \n",
    "(eine geometrische Größe). Beide sind konstant entlang des Balkens. \n",
    "\n",
    "$f(x)$ ist die Kraft pro Längeneinheit, die sich entlang des Balkens ändern kann.\n",
    "\n",
    "\n",
    "Je nach Art der Einspannung/ des Auflagers erhält man verschiedene \n",
    " Randwertprobleme (s.u.). Diese werden meist durch Finite Differenzen-Verfahren (s. letztes Kapitel) gelöst.\n",
    "\n",
    "Zur numerischen Behandlung  wird die 4.Ableitung   durch die Differenzenapproximation\n",
    "$$ y''''(x)= \\frac{y(x-2h)-4y(x-h)+6y(x)-4y(x+h)+y(x+2h)}{h^4} $$\n",
    "angenähert und in der Dgl. ersetzt. \n",
    "Dazu wird der Balken in $n+1$ Segmente unterteilt.\n",
    "Es sei $h=\\frac L{n+1}$ die Segmentbreite.\n",
    "Für die Diskterisierungspunkte erhält man\n",
    "$0=x_0<x_1<\\dots <x_n<x_{n+1}=L$ mit $h=x_i-x_{i-1}$. \n",
    "Ersetzt man nun  $y''''$ durch die Differenzenapproximation, so erhält man\n",
    "$$ y_{i-2}-4y_{i-1}+6y_i-4y_{i+1}+y_{i+2} = \\frac{h^4}{EI}f(x_i), \\qquad i=2,\\dots,n-1 $$"
   ]
  },
  {
   "cell_type": "markdown",
   "metadata": {},
   "source": [
    "Wir betrachten einen Balken, der an beiden Enden eingespannt ist: $$ y(0)=y'(0)=y(L)=y'(L)=0$$\n",
    "Für die Randbedingungen erhält man mit Hilfe der Annäherung:\n",
    "$$ y''''(x)\\approx \\frac{12y(x+h)-6y(x+2h)+\\frac 4 3 y(x+3h)}{h^4} $$\n",
    "für $x=0$. Diese Näherung gilt, falls $y(x)=y'(x)=0$ \n",
    "\n",
    "Insgesamt erhält man damit als Gleichungssystem\n",
    "$$ \\begin{pmatrix}\n",
    "12&-6&\\frac 4 3 \\\\\n",
    "-4&6&-4&1\\\\\n",
    "1&-4&6&-4&1\\\\\n",
    "&& \\ddots &\\ddots &\\ddots &\\ddots &\\ddots\\\\\n",
    "&&&1&-4&6&-4&1\\\\\n",
    "&&&&1&-4&6&-4&1\\\\\n",
    "&&&&&1&-4&6&-4\\\\\n",
    "&&&&&&\\frac 4 3&-6&12\n",
    "\\end{pmatrix}\n",
    "\\begin{pmatrix}y_1\\\\ y_2\\\\ \\vdots\\\\ \\\\ \\vdots\\\\ y_{n-1}\\\\ y_n\n",
    "\\end{pmatrix}\n",
    "=\\frac{h^4}{EI}\n",
    "\\begin{pmatrix}f(x_1)\\\\ f(x_2)\\\\ \\vdots \\\\ \\\\ \\vdots\\\\f(x_{n-1})\\\\ f(x_n)\n",
    "\\end{pmatrix}\n",
    "$$\n",
    "Die Werte an den Rändern ergeben sich aus den Randbedingungen."
   ]
  },
  {
   "cell_type": "markdown",
   "metadata": {
    "collapsed": true,
    "deletable": false,
    "editable": false,
    "nbgrader": {
     "checksum": "0674fc1aa28309974047d98ab734983a",
     "grade": false,
     "grade_id": "cell-9b50e8ed62a0b3a5",
     "locked": true,
     "schema_version": 1,
     "solution": false
    }
   },
   "source": [
    "Geben Sie eine Begründung für die zweite und vorletzte Zeile des Gleichungssystems."
   ]
  },
  {
   "cell_type": "markdown",
   "metadata": {
    "deletable": false,
    "nbgrader": {
     "checksum": "22d77adcfa6072cc0635eacee1b1780f",
     "grade": true,
     "grade_id": "cell-0b7ba6a1544d3c4a",
     "locked": false,
     "points": 1,
     "schema_version": 1,
     "solution": true
    }
   },
   "source": [
    "YOUR ANSWER HERE "
   ]
  },
  {
   "cell_type": "markdown",
   "metadata": {
    "deletable": false,
    "editable": false,
    "nbgrader": {
     "checksum": "3a711b7d3080c032d0bf14a5aaba661a",
     "grade": false,
     "grade_id": "cell-617548e813f953b0",
     "locked": true,
     "schema_version": 1,
     "solution": false
    }
   },
   "source": [
    "Welche Konvergenzaussagen für Jacobi- und Gauss-Seidel-Verfahren für dieses Problem können Sie vorab treffen?"
   ]
  },
  {
   "cell_type": "markdown",
   "metadata": {
    "deletable": false,
    "nbgrader": {
     "checksum": "77e2554b4c8fe78da303df5cb7f4e404",
     "grade": true,
     "grade_id": "cell-632423ee9e87d675",
     "locked": false,
     "points": 1,
     "schema_version": 1,
     "solution": true
    }
   },
   "source": [
    "YOUR ANSWER HERE\n",
    "Numerik I: Verfahren konvergiert genau dann, wenn \u001a (G) < 1.\n",
    "Verfahren konvergiert um so schneller, je näher \u001a (G) an 0\n",
    "liegt."
   ]
  },
  {
   "cell_type": "markdown",
   "metadata": {
    "deletable": false,
    "editable": false,
    "nbgrader": {
     "checksum": "cd1848b49cfb0ef9109e4fdc9018d033",
     "grade": false,
     "grade_id": "cell-8de2e628dbc00816",
     "locked": true,
     "schema_version": 1,
     "solution": false
    }
   },
   "source": [
    "Wir betrachten als erstes einen Stahlbalken der Länge $L=15 m$, der  Tiefe $d=7cm$ und Breite $b=10cm$. The Dichte von Stahl ist\n",
    "ungefähr $\\rho=7850 kg/m^3$, $E=2\\cdot 10^{11}$ N/m$^2$. $I=\\frac{bd^3}{12}$.\n",
    "\n",
    "Zuerst nehmen wir zusätzlich an, dass kein zusätzliches Gewicht den Balken belastet, so dass $f(x)$ nur das Eigengewicht des Balkens repräsentiert. \n",
    "\n",
    "Das Gewicht $f$ des Balkens pro $m$ ist somit $\\rho\\cdot b \\cdot d$. Die Gewichtskraft ergibt sich daraus durch Multiplikation mit der Graviatationsbeschleunigung $g= -9.81 m/s^2$."
   ]
  },
  {
   "cell_type": "markdown",
   "metadata": {
    "collapsed": true,
    "deletable": false,
    "editable": false,
    "nbgrader": {
     "checksum": "c56900445a08a050f48a652263636963",
     "grade": false,
     "grade_id": "cell-32be779221ff73bd",
     "locked": true,
     "schema_version": 1,
     "solution": false
    }
   },
   "source": [
    "Erstellen Sie eine Funktion `asparse(n)`, die eine dünnbesetzte Version der Matrix (coo_matrix) in Abhängigkeit von $n$ berechnet und zurückgibt. Die Matrix hat dann die Dimension $n\\times n$"
   ]
  },
  {
   "cell_type": "code",
   "execution_count": null,
   "metadata": {},
   "outputs": [],
   "source": []
  },
  {
   "cell_type": "code",
   "execution_count": 159,
   "metadata": {
    "deletable": false,
    "nbgrader": {
     "checksum": "4b6389285ae7de3ce262f7b7025cbcf0",
     "grade": true,
     "grade_id": "cell-0e10af5b2ed00f8b",
     "locked": false,
     "points": 2,
     "schema_version": 1,
     "solution": true
    }
   },
   "outputs": [],
   "source": [
    "def asparse(n):\n",
    "    I = []\n",
    "    J = []\n",
    "    V = []\n",
    "    mat = [(0, 0, 12), (0, 1, -6), (0, 2, 4 / 3)]\n",
    "    for i in range(1, n-1):\n",
    "        if i - 2 >= 0:\n",
    "            mat.append((i, i - 2, 1))\n",
    "        mat.append((i, i - 1, -4))\n",
    "        mat.append((i, i + 1, -4))\n",
    "        mat.append((i, i, 6))\n",
    "        if i + 2 <= n-1:\n",
    "            mat.append((i, i + 2, 1))\n",
    "    mat.append((n-1, n - 3, 4 / 3))\n",
    "    mat.append((n-1, n - 2, -6))\n",
    "    mat.append((n-1, n-1, 12))\n",
    "    for elem in mat:\n",
    "        I.append(elem[0])\n",
    "        J.append(elem[1])\n",
    "        V.append(elem[2])\n",
    "\n",
    "    A = sps.coo_matrix((V, (I, J)), shape=(n , n ))\n",
    "    return A\n"
   ]
  },
  {
   "cell_type": "code",
   "execution_count": 160,
   "metadata": {
    "deletable": false,
    "editable": false,
    "nbgrader": {
     "checksum": "78236524d8d57f1130c09c68c06ae4c6",
     "grade": true,
     "grade_id": "cell-0f857e1f1c15580e",
     "locked": true,
     "points": 1,
     "schema_version": 1,
     "solution": false
    }
   },
   "outputs": [],
   "source": [
    "# Autograder Tests\n",
    "assert np.allclose(asparse(8).todense(), itlin.asparse(8).todense())"
   ]
  },
  {
   "cell_type": "markdown",
   "metadata": {
    "deletable": false,
    "editable": false,
    "nbgrader": {
     "checksum": "da62fc56d085be8f866eba3fc4997f1f",
     "grade": false,
     "grade_id": "cell-4d7056a34a0d18fb",
     "locked": true,
     "schema_version": 1,
     "solution": false
    }
   },
   "source": [
    "Implementieren Sie je eine Routine `jacobi_beam(y, c)` bzw. `gs_beam(y, c)`, die  einen Iterationsschritt für das Jacobi- bzw. das Gauss-Seidel-Verfahren implementiert. Implementieren Sie die Verfahren Rechenzeit- und speicherplatzsparend. \n",
    "Dies bedeutet insbesondere, dass Sie nirgendwo die komplette Matrix (auch nicht in dünnbetzter Form) speichern, sondern die Verfahren direkt so implementieren, dass es auf genau diese Struktur \n",
    "der Matrix passt."
   ]
  },
  {
   "cell_type": "markdown",
   "metadata": {},
   "source": [
    "Wir betrachten einen Balken, der an beiden Enden eingespannt ist: $$ y(0)=y'(0)=y(L)=y'(L)=0$$\n",
    "Für die Randbedingungen erhält man mit Hilfe der Annäherung:\n",
    "$$ y''''(x)\\approx \\frac{12y(x+h)-6y(x+2h)+\\frac 4 3 y(x+3h)}{h^4} $$\n",
    "für $x=0$. Diese Näherung gilt, falls $y(x)=y'(x)=0$ \n",
    "\n",
    "Insgesamt erhält man damit als Gleichungssystem\n",
    "$$ \\begin{pmatrix}\n",
    "12&-6&\\frac 4 3 \\\\\n",
    "-4&6&-4&1\\\\\n",
    "1&-4&6&-4&1\\\\\n",
    "&& \\ddots &\\ddots &\\ddots &\\ddots &\\ddots\\\\\n",
    "&&&1&-4&6&-4&1\\\\\n",
    "&&&&1&-4&6&-4&1\\\\\n",
    "&&&&&1&-4&6&-4\\\\\n",
    "&&&&&&\\frac 4 3&-6&12\n",
    "\\end{pmatrix}\n",
    "\\begin{pmatrix}y_1\\\\ y_2\\\\ \\vdots\\\\ \\\\ \\vdots\\\\ y_{n-1}\\\\ y_n\n",
    "\\end{pmatrix}\n",
    "=\\frac{h^4}{EI}\n",
    "\\begin{pmatrix}f(x_1)\\\\ f(x_2)\\\\ \\vdots \\\\ \\\\ \\vdots\\\\f(x_{n-1})\\\\ f(x_n)\n",
    "\\end{pmatrix}\n",
    "$$\n",
    "Die Werte an den Rändern ergeben sich aus den Randbedingungen."
   ]
  },
  {
   "cell_type": "markdown",
   "metadata": {},
   "source": [
    "$$ 12*y_0 - 6*y_1 + \\frac{4}{3}*y_2 = c_0 $$  \n",
    "$$ y_0 = \\frac{c_0 + 6*y_1 - \\frac{4}{3}*y_2}{12}$$    \n",
    "$$ $$\n",
    "$$ 1*y_{i-2} - 4*y_{i-1} + 6*y_{i} - 4*y_{i+1} + 1*y_{i+2} = c_i   $$  \n",
    "$$ y_{i}  = \\frac{c_i - 1*y_{i-2} + 4*y_{i-1} + 4*y_{i+1} - 1*y_{i+2}}{6} $$\n"
   ]
  },
  {
   "cell_type": "code",
   "execution_count": 161,
   "metadata": {
    "deletable": false,
    "nbgrader": {
     "checksum": "9b52f1c15e2d37ba491cb9024efcc9d5",
     "grade": true,
     "grade_id": "cell-de740f04bf00c4ee",
     "locked": false,
     "points": 4,
     "schema_version": 1,
     "solution": true
    }
   },
   "outputs": [],
   "source": [
    "def jacobi_beam(y, c):\n",
    "    \"\"\"\n",
    "    Jacobi adapted for Euler-Bernoulli-beam\n",
    "    One iteration only\n",
    "    y: approximation to solution\n",
    "    c: right hand side\n",
    "    return: next iterate\n",
    "    \"\"\"\n",
    "    z = np.zeros(len(y))\n",
    "    z[0] = (c[0] + 6*y[1] - 4/3*y[2]) / 12\n",
    "    z[1] = (c[1] + 4*y[0] + 4*y[2] - y[3]) / 6\n",
    "    for i in range(2, n - 2):\n",
    "        z[i] = (c[i] - (y[i - 2] - 4 * y[i - 1] - 4 * y[i + 1] + y[i + 2])) / 6\n",
    "    z[n - 2] = (c[n - 2] - (y[n - 4] - 4 * y[n - 3] - 4 * y[n - 1])) / 6\n",
    "    z[n - 1] = (c[n - 1] - (4 / 3 * y[n - 3] - 6 * y[n - 2])) / 12\n",
    "    return z\n",
    "\n",
    "def gs_beam(y, c):\n",
    "    \"\"\"\n",
    "    Gauss-Seidel adapted for Euler-Bernoulli-beam\n",
    "    One iteration only\n",
    "    y: approximation to solution\n",
    "    c: right hand side\n",
    "    return: next iterate\n",
    "    \"\"\"\n",
    "    n = len(y)\n",
    "    y[0] = (c[0] - (-6 * y[1] + 4 / 3 * y[2])) / 12\n",
    "    y[1] = (c[1] - (-4 * y[0] - 4 * y[2] + y[3])) / 6\n",
    "    for i in range(2, n - 2):\n",
    "        y[i] = (c[i] - (y[i - 2] - 4 * y[i - 1] - 4 * y[i + 1] + y[i + 2])) / 6\n",
    "    y[n - 2] = (c[n - 2] - (y[n - 4] - 4 * y[n - 3] - 4 * y[n - 1])) / 6\n",
    "    y[n - 1] = (c[n - 1] - (4 / 3 * y[n - 3] - 6 * y[n - 2])) / 12\n",
    "    return y"
   ]
  },
  {
   "cell_type": "code",
   "execution_count": 330,
   "metadata": {},
   "outputs": [
    {
     "name": "stdout",
     "output_type": "stream",
     "text": [
      "[0.47222222 1.33333333 1.16666667 1.33333333 0.47222222]\n",
      "[0.47222222 0.98148148 1.24228395 1.49794239 0.69427298]\n"
     ]
    }
   ],
   "source": [
    "n = 5\n",
    "y = np.ones(n)\n",
    "c = np.full(n,1)\n",
    "print(jacobi_beam(y, c))\n",
    "print(gs_beam(y, c))\n"
   ]
  },
  {
   "cell_type": "code",
   "execution_count": 55,
   "metadata": {
    "deletable": false,
    "editable": false,
    "nbgrader": {
     "checksum": "0cae1c4e9ccb5282850b452fe70b6cd0",
     "grade": true,
     "grade_id": "cell-18e017d87d83b754",
     "locked": true,
     "points": 1,
     "schema_version": 1,
     "solution": false
    }
   },
   "outputs": [],
   "source": [
    "# Autograder tests - Zelle nicht verändern oder löschen\n",
    "y = np.ones(6)\n",
    "c = np.ones(6)\n",
    "assert np.allclose(jacobi_beam(y, c), itlin.jacobi_beam(y, c))"
   ]
  },
  {
   "cell_type": "code",
   "execution_count": 9,
   "metadata": {
    "deletable": false,
    "editable": false,
    "nbgrader": {
     "checksum": "a249beeb259dcb551117dd35eacbd1a1",
     "grade": true,
     "grade_id": "cell-e9689e570ead3891",
     "locked": true,
     "points": 1,
     "schema_version": 1,
     "solution": false
    }
   },
   "outputs": [],
   "source": [
    "# Autograder tests - Zelle nicht verändern oder löschen\n",
    "y = np.ones(6)\n",
    "c = np.ones(6)\n",
    "assert np.allclose(gs_beam(y, c), itlin.gs_beam(y, c))"
   ]
  },
  {
   "cell_type": "code",
   "execution_count": 10,
   "metadata": {
    "deletable": false,
    "editable": false,
    "nbgrader": {
     "checksum": "e55bb96646e37ddf6ee616b66edb1245",
     "grade": true,
     "grade_id": "cell-96fa4b6e519a40ba",
     "locked": true,
     "points": 1,
     "schema_version": 1,
     "solution": false
    }
   },
   "outputs": [],
   "source": [
    "# Hidden tests - Zelle nicht verändern oder löschen\n",
    "# BEGIN  HIDDEN TESTS\n",
    "y = np.random.rand(7)\n",
    "c = np.random.rand(7)\n",
    "assert np.allclose(jacobi_beam(y, c), itlin.jacobi_beam(y, c))"
   ]
  },
  {
   "cell_type": "code",
   "execution_count": 11,
   "metadata": {
    "deletable": false,
    "editable": false,
    "nbgrader": {
     "checksum": "f8756a609383c314700096d1f6c709c3",
     "grade": true,
     "grade_id": "cell-fb17a2c26dc65552",
     "locked": true,
     "points": 1,
     "schema_version": 1,
     "solution": false
    }
   },
   "outputs": [],
   "source": [
    "# Hidden tests - Zelle nicht verändern oder löschen\n",
    "# BEGIN  HIDDEN TESTS\n",
    "y = np.random.rand(7)\n",
    "c = np.random.rand(7)\n",
    "assert np.allclose(gs_beam(y, c), itlin.gs_beam(y, c))"
   ]
  },
  {
   "cell_type": "markdown",
   "metadata": {
    "collapsed": true,
    "deletable": false,
    "editable": false,
    "nbgrader": {
     "checksum": "1087091a5fdb9eb392fa3bb19e9ab866",
     "grade": false,
     "grade_id": "cell-52bf017db84baaa3",
     "locked": true,
     "schema_version": 1,
     "solution": false
    }
   },
   "source": [
    "Schreiben Sie eine Routine `multi_it`, die die Iterationsschleife implementiert und die die oben von Ihnen implementierten Funktionen in jedem Iterationsschritt aufruft.\n",
    "Die Iteration soll abgebrochen werden, wenn die maximale Iterationszahl überschritten wird oder die Norm des Inkrements kleiner als die geg. Toleranz ist. \n"
   ]
  },
  {
   "cell_type": "code",
   "execution_count": 154,
   "metadata": {
    "deletable": false,
    "nbgrader": {
     "checksum": "ffe801a50da74933b44e60bbc3de950b",
     "grade": true,
     "grade_id": "cell-be61852548315fd7",
     "locked": false,
     "points": 2,
     "schema_version": 1,
     "solution": true
    }
   },
   "outputs": [],
   "source": [
    "def multi_it(method, n, c, tol=1e-5, itmax=1000):\n",
    "    \"\"\" \n",
    "    iteration loop over method (gauss seidel or jacobi) \n",
    "    method: gs or jacobi\n",
    "    n: system dimension\n",
    "    c: right hand side\n",
    "    tol: tolerance (increment)\n",
    "    itmax: maximum number of iterations\n",
    "    return: \n",
    "        y: last iterate\n",
    "        it: number of iterations used so far\n",
    "        enorm: norm of increment\n",
    "        kfac: Konvergenzrate\n",
    "    \"\"\"\n",
    "    enorm = 2 * tol\n",
    "    enormold = 2 * enorm\n",
    "    y = np.zeros(n)\n",
    "    it = 0\n",
    "    while (enorm > tol and it < itmax):\n",
    "        yold = y.copy()\n",
    "        y = method(y, c)\n",
    "        enormold = enorm\n",
    "        enorm = np.linalg.norm(y - yold)\n",
    "        kfac = enorm / enormold\n",
    "        it += 1\n",
    "    return y, it, enorm, kfac"
   ]
  },
  {
   "cell_type": "markdown",
   "metadata": {
    "deletable": false,
    "editable": false,
    "nbgrader": {
     "checksum": "6542968eb3770c027b2eb3fc999ea041",
     "grade": false,
     "grade_id": "cell-306e8c296986be15",
     "locked": true,
     "schema_version": 1,
     "solution": false
    }
   },
   "source": [
    "Implementieren Sie die Funktion $f$."
   ]
  },
  {
   "cell_type": "code",
   "execution_count": 316,
   "metadata": {},
   "outputs": [],
   "source": [
    "L = 15\n",
    "d = 0.05 ################################ Achtung 0.07\n",
    "b = 0.1\n",
    "E = 2e11\n",
    "I = (b*d**3)/12\n",
    "g = -9.81\n",
    "p_ = 7850"
   ]
  },
  {
   "cell_type": "code",
   "execution_count": 317,
   "metadata": {
    "deletable": false,
    "nbgrader": {
     "checksum": "08721dc549558011853326df1864a3d5",
     "grade": true,
     "grade_id": "cell-ffbea65962b1e766",
     "locked": false,
     "points": 1,
     "schema_version": 1,
     "solution": true
    }
   },
   "outputs": [],
   "source": [
    "def f(x):\n",
    "    \"\"\"\n",
    "    load function, right hand side f\n",
    "    \"\"\"\n",
    "    weight = p_ * b * d\n",
    "    return weight * g"
   ]
  },
  {
   "cell_type": "code",
   "execution_count": 319,
   "metadata": {
    "deletable": false,
    "editable": false,
    "nbgrader": {
     "checksum": "ce1dc5f17d15b7e1ae845c7742b2335c",
     "grade": true,
     "grade_id": "cell-f456cca875a2127c",
     "locked": true,
     "points": 1,
     "schema_version": 1,
     "solution": false
    }
   },
   "outputs": [],
   "source": [
    "# Autograder Tests\n",
    "assert np.allclose(f(5.3), itlin.f(5.3))"
   ]
  },
  {
   "cell_type": "markdown",
   "metadata": {
    "deletable": false,
    "editable": false,
    "nbgrader": {
     "checksum": "6224970999cf58babd63043c33732e7f",
     "grade": false,
     "grade_id": "cell-a175e814783e423d",
     "locked": true,
     "schema_version": 1,
     "solution": false
    }
   },
   "source": [
    "Lösen Sie das System für $n=15$ mit den beiden Verfahren. \n",
    "Konvergieren die Verfahren? Falls ja, wie viele Iterationen sind jeweils notwendig, damit die Abbruchgenauigkeit mindestens $10^{-5}$ ist?"
   ]
  },
  {
   "cell_type": "code",
   "execution_count": 332,
   "metadata": {
    "deletable": false,
    "nbgrader": {
     "checksum": "1d77352b80184d75a69d2e31d0ed9813",
     "grade": true,
     "grade_id": "cell-e9dc32b80c69289a",
     "locked": false,
     "points": 1,
     "schema_version": 1,
     "solution": true
    }
   },
   "outputs": [
    {
     "data": {
      "text/plain": [
       "(array([ -2489.65997075,   6009.55258736,  -9088.54382416,  11830.31593085,\n",
       "        -14083.38281394,  15762.54763273, -16798.18803535,  17148.14280906,\n",
       "        -16798.18803535,  15762.54763273, -14083.38281394,  11830.31593085,\n",
       "         -9088.54382416,   6009.55258736,  -2489.65997075]),\n",
       " 50,\n",
       " 77390.80749042788,\n",
       " 1.6125197294050366)"
      ]
     },
     "execution_count": 332,
     "metadata": {},
     "output_type": "execute_result"
    }
   ],
   "source": [
    "# Ihr Code für den Aufruf der  Jacobi-Iteration für das Testbeispiel mit n=15\n",
    "\n",
    "n = 15\n",
    "h = L/(n+1)\n",
    "c_value = (h**4)/(E*I)*f(1)\n",
    "c = np.full(n, c_value)\n",
    "\n",
    "multi_it(jacobi_beam, n, c, tol=1e-5, itmax=50)"
   ]
  },
  {
   "cell_type": "markdown",
   "metadata": {
    "deletable": false,
    "editable": false,
    "nbgrader": {
     "checksum": "b3e51b6d9e91971287beeb3aa77c0419",
     "grade": false,
     "grade_id": "cell-c07a3f72853ee38a",
     "locked": true,
     "schema_version": 1,
     "solution": false
    }
   },
   "source": [
    "Ihr Kommentar zu Ergebnissen/Verhalten der Jacobi-Iteration"
   ]
  },
  {
   "cell_type": "markdown",
   "metadata": {
    "deletable": false,
    "nbgrader": {
     "checksum": "c54fe66669b4616c7a8dfb96d7a48acd",
     "grade": true,
     "grade_id": "cell-465dd5108cc133ca",
     "locked": false,
     "points": 1,
     "schema_version": 1,
     "solution": true
    }
   },
   "source": [
    "YOUR ANSWER HERE"
   ]
  },
  {
   "cell_type": "code",
   "execution_count": 333,
   "metadata": {
    "deletable": false,
    "editable": false,
    "nbgrader": {
     "checksum": "905fa4b340ff4a51565d05b8b8d3e231",
     "grade": true,
     "grade_id": "cell-32347a4bf4be4e09",
     "locked": true,
     "points": 2,
     "schema_version": 1,
     "solution": false
    }
   },
   "outputs": [],
   "source": [
    "# Hidden tests Jacobi"
   ]
  },
  {
   "cell_type": "code",
   "execution_count": 334,
   "metadata": {
    "deletable": false,
    "nbgrader": {
     "checksum": "85fdcba7b151bfca95ee593a3ea9d7a1",
     "grade": true,
     "grade_id": "cell-6a2d6184b92ee8ac",
     "locked": false,
     "points": 1,
     "schema_version": 1,
     "solution": true
    }
   },
   "outputs": [
    {
     "data": {
      "text/plain": [
       "(array([-0.0123452 , -0.04295339, -0.08323057, -0.12596501, -0.16529729,\n",
       "        -0.19669132, -0.21691022, -0.22399991, -0.21728229, -0.1973586 ,\n",
       "        -0.1661224 , -0.12678078, -0.08388094, -0.04333922, -0.01246848]),\n",
       " 1000,\n",
       " 0.00012563302400775883,\n",
       " 0.9974699470731279)"
      ]
     },
     "execution_count": 334,
     "metadata": {},
     "output_type": "execute_result"
    }
   ],
   "source": [
    "# Ihr Code für den Aufruf der Gauss-Seidel-Iteration für das Testbeispiel mit n=15\n",
    "multi_it(gs_beam, n, c, tol=1e-5, itmax=1000)"
   ]
  },
  {
   "cell_type": "markdown",
   "metadata": {
    "deletable": false,
    "editable": false,
    "nbgrader": {
     "checksum": "a7bb9d9fc2e35e0a3cd59e9646295cdf",
     "grade": false,
     "grade_id": "cell-6482691caf8bb41c",
     "locked": true,
     "schema_version": 1,
     "solution": false
    }
   },
   "source": [
    "Ihr Kommentar zum Gauss-Seidel-Ergebnis/Verhalten. (Plots dazu kommen weiter unten)"
   ]
  },
  {
   "cell_type": "markdown",
   "metadata": {
    "deletable": false,
    "nbgrader": {
     "checksum": "6b53f4ac0dcab5bf1366e4f02c00b671",
     "grade": true,
     "grade_id": "cell-4824d86cd62d0467",
     "locked": false,
     "points": 1,
     "schema_version": 1,
     "solution": true
    }
   },
   "source": [
    "YOUR ANSWER HERE"
   ]
  },
  {
   "cell_type": "code",
   "execution_count": 335,
   "metadata": {
    "deletable": false,
    "editable": false,
    "nbgrader": {
     "checksum": "3cb29920694a5ab5a716e091ce37d8f5",
     "grade": true,
     "grade_id": "cell-84a5a4ece92cb7fb",
     "locked": true,
     "points": 3,
     "schema_version": 1,
     "solution": false
    }
   },
   "outputs": [],
   "source": [
    "# Hidden Tests Gauss-Seidel - Zelle nicht ändern"
   ]
  },
  {
   "cell_type": "markdown",
   "metadata": {
    "collapsed": true,
    "deletable": false,
    "editable": false,
    "nbgrader": {
     "checksum": "d2d5f6178920476bb75392f4e3aedd5b",
     "grade": false,
     "grade_id": "cell-d6cd8c20799a920f",
     "locked": true,
     "schema_version": 1,
     "solution": false
    }
   },
   "source": [
    "Plotten Sie die Lösung gegen die exakte Lösung $y(x)=\\frac{f(x)x^2(L-x)^2}{24EI}$. Wie viele Iterationen und welche Toleranz sind notwendig, damit die Lösungen im Intervallmittelpunkt weniger als $10^{-2}$ auseinanderliegen?"
   ]
  },
  {
   "cell_type": "code",
   "execution_count": 336,
   "metadata": {},
   "outputs": [],
   "source": [
    "def yex(x):\n",
    "    return f(x) * x ** 2. * (L - x) ** 2 / (24 * E * I)"
   ]
  },
  {
   "cell_type": "code",
   "execution_count": 346,
   "metadata": {
    "deletable": false,
    "nbgrader": {
     "checksum": "8ae5e0326111fd97a745adbfbb92b1a8",
     "grade": true,
     "grade_id": "cell-209b7955c0bf9f12",
     "locked": false,
     "points": 3,
     "schema_version": 1,
     "solution": true
    }
   },
   "outputs": [
    {
     "data": {
      "image/png": "[encoded data removed]",
      "text/plain": [
       "<matplotlib.figure.Figure at 0x1e423879240>"
      ]
     },
     "metadata": {},
     "output_type": "display_data"
    }
   ],
   "source": [
    "y_result = []\n",
    "n = 15\n",
    "for i in range(0,15,1):\n",
    "    y_result.append(yex(i))\n",
    "x = np.linspace(0, 15, 15)\n",
    "plt.plot(x, y_result)\n",
    "plt.plot(x, multi_it(gs_beam, n, c, tol=1e-5, itmax=10000)[0])\n",
    "plt.show()"
   ]
  },
  {
   "cell_type": "code",
   "execution_count": null,
   "metadata": {
    "deletable": false,
    "nbgrader": {
     "checksum": "edf272b122407bc4d01c0e4504301f2c",
     "grade": true,
     "grade_id": "cell-c716b420dc01e603",
     "locked": false,
     "points": 3,
     "schema_version": 1,
     "solution": true
    }
   },
   "outputs": [],
   "source": [
    "# Bestimmung der Anzahl der Iterationen\n",
    "# YOUR CODE HERE\n",
    "raise NotImplementedError()"
   ]
  },
  {
   "cell_type": "markdown",
   "metadata": {
    "collapsed": true,
    "deletable": false,
    "editable": false,
    "nbgrader": {
     "checksum": "4dad2f0696bfa5321c20374531ad6446",
     "grade": false,
     "grade_id": "cell-cf87fca6482a7407",
     "locked": true,
     "schema_version": 1,
     "solution": false
    }
   },
   "source": [
    "Nun wird der Balken durch ein Gewicht von $2000 kg$ belastet, das gleichmäßig verteilt zwischen $x=8$ und $x=10$ auf dem Balken liegt, so dass Sie in diesem Bereich $f$ entsprechend modifizieren müssen.\n",
    "\n",
    "Lösen Sie das Problem wieder mit demselben  $n$. Plotten Sie die Lösung. Wo hat der Balken die größte Auslenkung?"
   ]
  },
  {
   "cell_type": "code",
   "execution_count": 312,
   "metadata": {},
   "outputs": [],
   "source": [
    "def f_2000(x):\n",
    "    \"\"\"\n",
    "    load function, right hand side f\n",
    "    \"\"\"\n",
    "    if(x >= 8 and x <= 10):\n",
    "        weight = p_ * b * d + 2000/3\n",
    "    else:\n",
    "        weight = p_ * b * d\n",
    "    return weight * g"
   ]
  },
  {
   "cell_type": "code",
   "execution_count": 313,
   "metadata": {
    "deletable": false,
    "nbgrader": {
     "checksum": "78d4e2932e3b0872632b957f981b289d",
     "grade": true,
     "grade_id": "cell-5f353f24955a3bf0",
     "locked": false,
     "points": 2,
     "schema_version": 1,
     "solution": true
    }
   },
   "outputs": [
    {
     "name": "stdout",
     "output_type": "stream",
     "text": [
      "(array([-0.05399343, -0.19668437, -0.40005931, -0.63724409, -0.88231354,\n",
      "       -1.11010758, -1.296078  , -1.41618439, -1.44685067, -1.36498642,\n",
      "       -1.17231918, -0.8955286 , -0.58641576, -0.29783745, -0.08388039]), 1000, 0.0007976912823194602, 0.9974699472681253)\n"
     ]
    },
    {
     "data": {
      "image/png": "[encoded data removed]",
      "text/plain": [
       "<matplotlib.figure.Figure at 0x1e421bfc2b0>"
      ]
     },
     "metadata": {},
     "output_type": "display_data"
    }
   ],
   "source": [
    "# Balken mit Zusatzgewicht\n",
    "c = np.zeros(15)\n",
    "for i in range(0, 15,1):\n",
    "    c[i] = (h**4)/(E*I)*f_2000(i)\n",
    "\n",
    "x = np.linspace(0, 15, 15)\n",
    "\n",
    "\n",
    "\n",
    "print(multi_it(gs_beam, n, c, tol=1e-5, itmax=1000))\n",
    "\n",
    "multi_it(gs_beam, n, c, tol=1e-5, itmax=50)\n",
    "plt.plot(x, multi_it(gs_beam, n, c, tol=1e-5, itmax=1000)[0])\n",
    "plt.show()"
   ]
  },
  {
   "cell_type": "markdown",
   "metadata": {
    "deletable": false,
    "editable": false,
    "nbgrader": {
     "checksum": "e65e68905c0c91e5e0bccce2fd1b6b71",
     "grade": false,
     "grade_id": "cell-c3fe8dc4295feef2",
     "locked": true,
     "schema_version": 1,
     "solution": false
    }
   },
   "source": [
    "Nun soll das ursprüngliche System mit einem cg-Verfahren gelöst werden.\n",
    "Ws können Sie vorab über die Konvergenz sagen?"
   ]
  },
  {
   "cell_type": "code",
   "execution_count": 309,
   "metadata": {
    "deletable": false,
    "nbgrader": {
     "checksum": "fed327ef8c0f9e0fc8f8678a7f329535",
     "grade": true,
     "grade_id": "cell-3cb25835a1089d1c",
     "locked": false,
     "points": 1,
     "schema_version": 1,
     "solution": true
    }
   },
   "outputs": [
    {
     "ename": "NotImplementedError",
     "evalue": "",
     "output_type": "error",
     "traceback": [
      "\u001b[1;31m---------------------------------------------------------------------------\u001b[0m",
      "\u001b[1;31mNotImplementedError\u001b[0m                       Traceback (most recent call last)",
      "\u001b[1;32m<ipython-input-309-33b24dc2fe0d>\u001b[0m in \u001b[0;36m<module>\u001b[1;34m()\u001b[0m\n\u001b[0;32m      3\u001b[0m \u001b[1;33m\u001b[0m\u001b[0m\n\u001b[0;32m      4\u001b[0m \u001b[1;31m# YOUR CODE HERE\u001b[0m\u001b[1;33m\u001b[0m\u001b[1;33m\u001b[0m\u001b[0m\n\u001b[1;32m----> 5\u001b[1;33m \u001b[1;32mraise\u001b[0m \u001b[0mNotImplementedError\u001b[0m\u001b[1;33m(\u001b[0m\u001b[1;33m)\u001b[0m\u001b[1;33m\u001b[0m\u001b[0m\n\u001b[0m",
      "\u001b[1;31mNotImplementedError\u001b[0m: "
     ]
    }
   ],
   "source": [
    "# Konvergenzaussagen mathematisch prüfen.\n",
    "# Textantwort in die nächste Zelle.\n",
    "\n",
    "# YOUR CODE HERE\n",
    "raise NotImplementedError()"
   ]
  },
  {
   "cell_type": "markdown",
   "metadata": {
    "deletable": false,
    "nbgrader": {
     "checksum": "cc538a890b349631b5e47db7a7eeb17d",
     "grade": true,
     "grade_id": "cell-b6aea173382fa06a",
     "locked": false,
     "points": 2,
     "schema_version": 1,
     "solution": true
    }
   },
   "source": [
    "YOUR ANSWER HERE"
   ]
  },
  {
   "cell_type": "markdown",
   "metadata": {
    "deletable": false,
    "editable": false,
    "nbgrader": {
     "checksum": "fd1ba39c49b42b075e002e8c13666fc4",
     "grade": false,
     "grade_id": "cell-961412323f430d4c",
     "locked": true,
     "schema_version": 1,
     "solution": false
    }
   },
   "source": [
    "Nun soll das ursprüngliche System mit dem cg-Verfahren gelöst werden.\n",
    "Schreiben Sie dazu eine Funktion `amaly(y)`, die die Matrix-Vektor-Multiplikation $A\\cdot y$ für den Euler-Bernopulli-Balken effizient implementiert. Rückgabewert ist der Vektor $A\\cdot y$.\n",
    "\n",
    "Vergessen Sie nicht, das cg-Verfahren nach $n$ Iterationen neu zu starten. \n",
    "\n",
    "Eine effiziente Impementation ist wichtig!\n",
    "\n",
    "Vergleichen Sie das Verfahren bzgl. Schrittzahl und Rechenzeit mit dem Gauss-Seidel-Verfahren. "
   ]
  },
  {
   "cell_type": "code",
   "execution_count": null,
   "metadata": {},
   "outputs": [],
   "source": [
    "def amaly(y):\n",
    "    n = len(y)\n",
    "    Ax = np.zeros(n)\n",
    "    Ax[0] = 12 * y[0] - 6 * y[1] + 4 / 3 * y[2]\n",
    "    Ax[1] = -4 * y[0] + 6 * y[1] - 4 * y[2] + y[3]\n",
    "    for i in range(2, n - 2):\n",
    "        Ax[i] = y[i - 2] - 4 * y[i - 1] + 6 * y[i] - 4 * y[i + 1] + y[i + 2]\n",
    "    Ax[n - 2] = y[n - 4] - 4 * y[n - 3] + 6 * y[n - 2] - 4 * y[n - 1]\n",
    "    Ax[n - 1] = 4 / 3 * y[n - 3] - 6 * y[n - 2] + 12 * y[n - 1]\n",
    "    return Ax"
   ]
  },
  {
   "cell_type": "code",
   "execution_count": null,
   "metadata": {
    "deletable": false,
    "nbgrader": {
     "checksum": "59886b510a8ed0c39d38c0f3b3873a55",
     "grade": true,
     "grade_id": "cell-f0d07d165190d0aa",
     "locked": false,
     "points": 3,
     "schema_version": 1,
     "solution": true
    }
   },
   "outputs": [],
   "source": [
    "import scipy.linalg as spla\n",
    "import scipy as sp\n",
    "\n",
    "\n",
    "def cg(amaly, c, y, itmax=100, eps=1e-5):\n",
    "    \"\"\"\n",
    "    in: \n",
    "    amaly: Funktion, die A*y effizient für dieses konkrete Problem berechnet\n",
    "    c: rechte Seite\n",
    "    y: Startlösung\n",
    "    itmax: maximal zulässige Anzahl Iterationen\n",
    "    eps: Toleranz für die Norm des Residuums\n",
    "    return:\n",
    "    yn: Lösung bzw. aktuelle Iterierte bei Nichtkonvergenz\n",
    "    it: Anzahl verwendeter Iterationen\n",
    "    r: Residuum\n",
    "    \"\"\"\n",
    "    n = len(y)\n",
    "    iouter = 0\n",
    "    imax = min(itmax, n)\n",
    "    xn, it, r, erg = cgmaxn(amaly, c, y, itmax=imax, eps=eps)\n",
    "\n",
    "    while (spla.norm(r) > eps and iouter < itmax / n):\n",
    "        # print('Restart ', xn)\n",
    "        xn, it, r, erg = cgmaxn(amaly, c, xn, itmax=imax, eps=eps)\n",
    "        iouter += 1\n",
    "\n",
    "    return xn, it, r\n",
    "\n",
    "def cgmaxn(amaly, c, x, itmax=10, eps=1e-5):\n",
    "    \"\"\"\n",
    "\n",
    "    \"\"\"\n",
    "\n",
    "    r = - amaly(x) + c\n",
    "    d = r.copy()\n",
    "    xn = x\n",
    "    rs = np.dot(r, r)\n",
    "    i = 0\n",
    "    erg = []\n",
    "    while (spla.norm(r) > eps and i <= itmax):\n",
    "        i += 1\n",
    "        z = amaly(d)\n",
    "        alpha = rs / np.dot(d, z)\n",
    "        xn = xn + alpha * d\n",
    "        rn = r - alpha * z\n",
    "        rns = np.dot(rn, rn)\n",
    "        beta = rns / rs\n",
    "        d = rn + beta * d\n",
    "        r = rn\n",
    "        rs = rns\n",
    "        erg.append([xn, r])\n",
    "        # print(i)\n",
    "        # print(r)\n",
    "    return xn, i, r, erg\n",
    "\n"
   ]
  },
  {
   "cell_type": "code",
   "execution_count": null,
   "metadata": {
    "deletable": false,
    "editable": false,
    "nbgrader": {
     "checksum": "833d571d3260a5f5ec3596f82829bf93",
     "grade": true,
     "grade_id": "cell-4b2bcb29a68caa47",
     "locked": true,
     "points": 1,
     "schema_version": 1,
     "solution": false
    }
   },
   "outputs": [],
   "source": [
    "# Hidden test - nicht löschen"
   ]
  },
  {
   "cell_type": "code",
   "execution_count": null,
   "metadata": {
    "deletable": false,
    "editable": false,
    "nbgrader": {
     "checksum": "2c94b9593a7030ac3941215eb8c8dc1d",
     "grade": true,
     "grade_id": "cell-e83f63e64265bcd3",
     "locked": true,
     "points": 1,
     "schema_version": 1,
     "solution": false
    }
   },
   "outputs": [],
   "source": [
    "# Hidden test - nicht löschen"
   ]
  },
  {
   "cell_type": "code",
   "execution_count": null,
   "metadata": {
    "deletable": false,
    "editable": false,
    "nbgrader": {
     "checksum": "02ebac7253c01064fc4dd95f01496211",
     "grade": true,
     "grade_id": "cell-16d02584539938bf",
     "locked": true,
     "points": 2,
     "schema_version": 1,
     "solution": false
    }
   },
   "outputs": [],
   "source": [
    "# Hidden test - nicht löschen oder verändern\n",
    "n = 15"
   ]
  },
  {
   "cell_type": "code",
   "execution_count": null,
   "metadata": {
    "deletable": false,
    "editable": false,
    "nbgrader": {
     "checksum": "de8e05d64d92a2e0f909106a3e89d451",
     "grade": true,
     "grade_id": "cell-ed21ee6e2a38f509",
     "locked": true,
     "points": 2,
     "schema_version": 1,
     "solution": false
    }
   },
   "outputs": [],
   "source": [
    "# Hidden test - nicht löschen"
   ]
  },
  {
   "cell_type": "markdown",
   "metadata": {
    "deletable": false,
    "editable": false,
    "nbgrader": {
     "checksum": "f7767e18ba48579a5d5ca41d5733a834",
     "grade": false,
     "grade_id": "cell-e2d97a13939eb013",
     "locked": true,
     "schema_version": 1,
     "solution": false
    }
   },
   "source": [
    "Meine Kommentare zur Implementation und zum Aufwandsvergleich:"
   ]
  },
  {
   "cell_type": "markdown",
   "metadata": {
    "deletable": false,
    "nbgrader": {
     "checksum": "8d43e3f85976028890f12a1b7afba7f1",
     "grade": true,
     "grade_id": "cell-d4cfee1d8b3a32a1",
     "locked": false,
     "points": 2,
     "schema_version": 1,
     "solution": true
    }
   },
   "source": [
    "YOUR ANSWER HERE"
   ]
  },
  {
   "cell_type": "code",
   "execution_count": null,
   "metadata": {
    "deletable": false,
    "editable": false,
    "nbgrader": {
     "checksum": "fbf6284757c53133087a3a0fd169fc71",
     "grade": true,
     "grade_id": "cell-b0519811166eab19",
     "locked": true,
     "points": 2,
     "schema_version": 1,
     "solution": false
    }
   },
   "outputs": [],
   "source": [
    "# Hidden test - nicht löschen"
   ]
  },
  {
   "cell_type": "raw",
   "metadata": {},
   "source": []
  }
 ],
 "metadata": {
  "kernelspec": {
   "display_name": "Python 3",
   "language": "python",
   "name": "python3"
  },
  "language_info": {
   "codemirror_mode": {
    "name": "ipython",
    "version": 3
   },
   "file_extension": ".py",
   "mimetype": "text/x-python",
   "name": "python",
   "nbconvert_exporter": "python",
   "pygments_lexer": "ipython3",
   "version": "3.6.4"
  },
  "toc": {
   "nav_menu": {},
   "number_sections": true,
   "sideBar": true,
   "skip_h1_title": false,
   "title_cell": "Table of Contents",
   "title_sidebar": "Contents",
   "toc_cell": true,
   "toc_position": {},
   "toc_section_display": true,
   "toc_window_display": false
  }
 },
 "nbformat": 4,
 "nbformat_minor": 2
}
